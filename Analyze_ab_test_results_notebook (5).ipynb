{
 "cells": [
  {
   "cell_type": "markdown",
   "metadata": {},
   "source": [
    "## Analyze A/B Test Results\n",
    "\n",
    "\n",
    "## Table of Contents\n",
    "- [Introduction](#intro)\n",
    "- [Part I - Probability](#probability)\n",
    "- [Part II - A/B Test](#ab_test)\n",
    "- [Part III - Regression](#regression)\n",
    "\n",
    "\n",
    "<a id='intro'></a>\n",
    "### Introduction\n",
    "\n",
    "\n",
    "In this project, we will be working to understand the results of an A/B test run by an e-commerce website.  our goal is to work through this notebook to help the company understand if they should implement the new page, keep the old page, or perhaps run the experiment longer to make their decision.\n",
    "\n",
    "<a id='probability'></a>\n",
    "#### Part I - Probability\n",
    "\n",
    "To get started, let's import our libraries."
   ]
  },
  {
   "cell_type": "code",
   "execution_count": 60,
   "metadata": {},
   "outputs": [],
   "source": [
    "import pandas as pd\n",
    "import numpy as np\n",
    "import random\n",
    "import matplotlib.pyplot as plt\n",
    "%matplotlib inline\n",
    "#We are setting the seed to assure you get the same answers on quizzes as we set up\n",
    "random.seed(42)"
   ]
  },
  {
   "cell_type": "markdown",
   "metadata": {},
   "source": [
    "`1.` Now, read in the `ab_data.csv` data. Store it in `df`.  \n",
    "\n",
    "a. Read in the dataset and take a look at the top few rows here:"
   ]
  },
  {
   "cell_type": "code",
   "execution_count": 61,
   "metadata": {},
   "outputs": [
    {
     "data": {
      "text/html": [
       "<div>\n",
       "<style>\n",
       "    .dataframe thead tr:only-child th {\n",
       "        text-align: right;\n",
       "    }\n",
       "\n",
       "    .dataframe thead th {\n",
       "        text-align: left;\n",
       "    }\n",
       "\n",
       "    .dataframe tbody tr th {\n",
       "        vertical-align: top;\n",
       "    }\n",
       "</style>\n",
       "<table border=\"1\" class=\"dataframe\">\n",
       "  <thead>\n",
       "    <tr style=\"text-align: right;\">\n",
       "      <th></th>\n",
       "      <th>user_id</th>\n",
       "      <th>timestamp</th>\n",
       "      <th>group</th>\n",
       "      <th>landing_page</th>\n",
       "      <th>converted</th>\n",
       "    </tr>\n",
       "  </thead>\n",
       "  <tbody>\n",
       "    <tr>\n",
       "      <th>0</th>\n",
       "      <td>851104</td>\n",
       "      <td>2017-01-21 22:11:48.556739</td>\n",
       "      <td>control</td>\n",
       "      <td>old_page</td>\n",
       "      <td>0</td>\n",
       "    </tr>\n",
       "    <tr>\n",
       "      <th>1</th>\n",
       "      <td>804228</td>\n",
       "      <td>2017-01-12 08:01:45.159739</td>\n",
       "      <td>control</td>\n",
       "      <td>old_page</td>\n",
       "      <td>0</td>\n",
       "    </tr>\n",
       "    <tr>\n",
       "      <th>2</th>\n",
       "      <td>661590</td>\n",
       "      <td>2017-01-11 16:55:06.154213</td>\n",
       "      <td>treatment</td>\n",
       "      <td>new_page</td>\n",
       "      <td>0</td>\n",
       "    </tr>\n",
       "    <tr>\n",
       "      <th>3</th>\n",
       "      <td>853541</td>\n",
       "      <td>2017-01-08 18:28:03.143765</td>\n",
       "      <td>treatment</td>\n",
       "      <td>new_page</td>\n",
       "      <td>0</td>\n",
       "    </tr>\n",
       "    <tr>\n",
       "      <th>4</th>\n",
       "      <td>864975</td>\n",
       "      <td>2017-01-21 01:52:26.210827</td>\n",
       "      <td>control</td>\n",
       "      <td>old_page</td>\n",
       "      <td>1</td>\n",
       "    </tr>\n",
       "  </tbody>\n",
       "</table>\n",
       "</div>"
      ],
      "text/plain": [
       "   user_id                   timestamp      group landing_page  converted\n",
       "0   851104  2017-01-21 22:11:48.556739    control     old_page          0\n",
       "1   804228  2017-01-12 08:01:45.159739    control     old_page          0\n",
       "2   661590  2017-01-11 16:55:06.154213  treatment     new_page          0\n",
       "3   853541  2017-01-08 18:28:03.143765  treatment     new_page          0\n",
       "4   864975  2017-01-21 01:52:26.210827    control     old_page          1"
      ]
     },
     "execution_count": 61,
     "metadata": {},
     "output_type": "execute_result"
    }
   ],
   "source": [
    "df = pd.read_csv('ab_data.csv')\n",
    "\n",
    "df.head()"
   ]
  },
  {
   "cell_type": "markdown",
   "metadata": {},
   "source": [
    "b. Use the below cell to find the number of rows in the dataset."
   ]
  },
  {
   "cell_type": "code",
   "execution_count": 62,
   "metadata": {},
   "outputs": [
    {
     "data": {
      "text/plain": [
       "(294478, 5)"
      ]
     },
     "execution_count": 62,
     "metadata": {},
     "output_type": "execute_result"
    }
   ],
   "source": [
    "df.shape"
   ]
  },
  {
   "cell_type": "markdown",
   "metadata": {},
   "source": [
    "c. The number of unique users in the dataset."
   ]
  },
  {
   "cell_type": "code",
   "execution_count": 63,
   "metadata": {},
   "outputs": [
    {
     "data": {
      "text/plain": [
       "290584"
      ]
     },
     "execution_count": 63,
     "metadata": {},
     "output_type": "execute_result"
    }
   ],
   "source": [
    "df.user_id.nunique()"
   ]
  },
  {
   "cell_type": "markdown",
   "metadata": {
    "collapsed": true
   },
   "source": [
    "d. The proportion of users converted."
   ]
  },
  {
   "cell_type": "code",
   "execution_count": 64,
   "metadata": {},
   "outputs": [
    {
     "data": {
      "text/plain": [
       "0.12104245244060237"
      ]
     },
     "execution_count": 64,
     "metadata": {},
     "output_type": "execute_result"
    }
   ],
   "source": [
    "df.query('converted == 1').user_id.nunique( ) / df.user_id.nunique()"
   ]
  },
  {
   "cell_type": "markdown",
   "metadata": {
    "collapsed": true
   },
   "source": [
    "e. The number of times the `new_page` and `treatment` don't line up."
   ]
  },
  {
   "cell_type": "code",
   "execution_count": 65,
   "metadata": {},
   "outputs": [
    {
     "data": {
      "text/plain": [
       "user_id         3893\n",
       "timestamp       3893\n",
       "group           3893\n",
       "landing_page    3893\n",
       "converted       3893\n",
       "dtype: int64"
      ]
     },
     "execution_count": 65,
     "metadata": {},
     "output_type": "execute_result"
    }
   ],
   "source": [
    "df_dl = df[(df['group'] == 'treatment') & (df['landing_page'] == 'old_page')].count() + df[(df['group'] == 'control') & (df['landing_page'] == 'new_page')].count()\n",
    "\n",
    "df_dl"
   ]
  },
  {
   "cell_type": "code",
   "execution_count": 66,
   "metadata": {},
   "outputs": [
    {
     "data": {
      "text/plain": [
       "user_id         3893\n",
       "timestamp       3893\n",
       "group           3893\n",
       "landing_page    3893\n",
       "converted       3893\n",
       "dtype: int64"
      ]
     },
     "execution_count": 66,
     "metadata": {},
     "output_type": "execute_result"
    }
   ],
   "source": [
    "df_dl.head()"
   ]
  },
  {
   "cell_type": "markdown",
   "metadata": {},
   "source": [
    "f. Do any of the rows have missing values?"
   ]
  },
  {
   "cell_type": "code",
   "execution_count": 67,
   "metadata": {},
   "outputs": [
    {
     "name": "stdout",
     "output_type": "stream",
     "text": [
      "<class 'pandas.core.frame.DataFrame'>\n",
      "RangeIndex: 294478 entries, 0 to 294477\n",
      "Data columns (total 5 columns):\n",
      "user_id         294478 non-null int64\n",
      "timestamp       294478 non-null object\n",
      "group           294478 non-null object\n",
      "landing_page    294478 non-null object\n",
      "converted       294478 non-null int64\n",
      "dtypes: int64(2), object(3)\n",
      "memory usage: 11.2+ MB\n"
     ]
    }
   ],
   "source": [
    "df.info()"
   ]
  },
  {
   "cell_type": "markdown",
   "metadata": {},
   "source": [
    "`2.` For the rows where **treatment** is not aligned with **new_page** or **control** is not aligned with **old_page**, we cannot be sure if this row truly received the new or old page. \n",
    "\n",
    "a. Store your new dataframe in **df2**."
   ]
  },
  {
   "cell_type": "code",
   "execution_count": 68,
   "metadata": {},
   "outputs": [
    {
     "name": "stdout",
     "output_type": "stream",
     "text": [
      "<class 'pandas.core.frame.DataFrame'>\n",
      "Int64Index: 290585 entries, 0 to 294477\n",
      "Data columns (total 5 columns):\n",
      "user_id         290585 non-null int64\n",
      "timestamp       290585 non-null object\n",
      "group           290585 non-null object\n",
      "landing_page    290585 non-null object\n",
      "converted       290585 non-null int64\n",
      "dtypes: int64(2), object(3)\n",
      "memory usage: 13.3+ MB\n"
     ]
    }
   ],
   "source": [
    "df2 = df[((df['group'] == 'treatment') & (df['landing_page'] == 'new_page')) | ((df['group'] == 'control') & (df['landing_page'] == 'old_page')) ]\n",
    "df2.info()"
   ]
  },
  {
   "cell_type": "code",
   "execution_count": 69,
   "metadata": {},
   "outputs": [
    {
     "data": {
      "text/plain": [
       "0"
      ]
     },
     "execution_count": 69,
     "metadata": {},
     "output_type": "execute_result"
    }
   ],
   "source": [
    "# Double Check all of the correct rows were removed - this should be 0\n",
    "df2[((df2['group'] == 'treatment') == (df2['landing_page'] == 'new_page')) == False].shape[0]"
   ]
  },
  {
   "cell_type": "markdown",
   "metadata": {},
   "source": [
    "`3.` Let's Use **df2** and solve the below questions"
   ]
  },
  {
   "cell_type": "markdown",
   "metadata": {},
   "source": [
    "a. How many unique **user_id**s are in **df2**?"
   ]
  },
  {
   "cell_type": "code",
   "execution_count": 70,
   "metadata": {},
   "outputs": [
    {
     "data": {
      "text/plain": [
       "290584"
      ]
     },
     "execution_count": 70,
     "metadata": {},
     "output_type": "execute_result"
    }
   ],
   "source": [
    "df2.user_id.nunique()"
   ]
  },
  {
   "cell_type": "markdown",
   "metadata": {
    "collapsed": true
   },
   "source": [
    "b. There is one **user_id** repeated in **df2**.  What is it?"
   ]
  },
  {
   "cell_type": "code",
   "execution_count": 71,
   "metadata": {},
   "outputs": [
    {
     "data": {
      "text/html": [
       "<div>\n",
       "<style>\n",
       "    .dataframe thead tr:only-child th {\n",
       "        text-align: right;\n",
       "    }\n",
       "\n",
       "    .dataframe thead th {\n",
       "        text-align: left;\n",
       "    }\n",
       "\n",
       "    .dataframe tbody tr th {\n",
       "        vertical-align: top;\n",
       "    }\n",
       "</style>\n",
       "<table border=\"1\" class=\"dataframe\">\n",
       "  <thead>\n",
       "    <tr style=\"text-align: right;\">\n",
       "      <th></th>\n",
       "      <th>user_id</th>\n",
       "      <th>timestamp</th>\n",
       "      <th>group</th>\n",
       "      <th>landing_page</th>\n",
       "      <th>converted</th>\n",
       "    </tr>\n",
       "  </thead>\n",
       "  <tbody>\n",
       "    <tr>\n",
       "      <th>2893</th>\n",
       "      <td>773192</td>\n",
       "      <td>2017-01-14 02:55:59.590927</td>\n",
       "      <td>treatment</td>\n",
       "      <td>new_page</td>\n",
       "      <td>0</td>\n",
       "    </tr>\n",
       "  </tbody>\n",
       "</table>\n",
       "</div>"
      ],
      "text/plain": [
       "      user_id                   timestamp      group landing_page  converted\n",
       "2893   773192  2017-01-14 02:55:59.590927  treatment     new_page          0"
      ]
     },
     "execution_count": 71,
     "metadata": {},
     "output_type": "execute_result"
    }
   ],
   "source": [
    "df2[df2.duplicated(['user_id'])]"
   ]
  },
  {
   "cell_type": "markdown",
   "metadata": {},
   "source": [
    "c. What is the row information for the repeat **user_id**? "
   ]
  },
  {
   "cell_type": "code",
   "execution_count": 72,
   "metadata": {},
   "outputs": [
    {
     "data": {
      "text/html": [
       "<div>\n",
       "<style>\n",
       "    .dataframe thead tr:only-child th {\n",
       "        text-align: right;\n",
       "    }\n",
       "\n",
       "    .dataframe thead th {\n",
       "        text-align: left;\n",
       "    }\n",
       "\n",
       "    .dataframe tbody tr th {\n",
       "        vertical-align: top;\n",
       "    }\n",
       "</style>\n",
       "<table border=\"1\" class=\"dataframe\">\n",
       "  <thead>\n",
       "    <tr style=\"text-align: right;\">\n",
       "      <th></th>\n",
       "      <th>user_id</th>\n",
       "      <th>timestamp</th>\n",
       "      <th>group</th>\n",
       "      <th>landing_page</th>\n",
       "      <th>converted</th>\n",
       "    </tr>\n",
       "  </thead>\n",
       "  <tbody>\n",
       "    <tr>\n",
       "      <th>2893</th>\n",
       "      <td>773192</td>\n",
       "      <td>2017-01-14 02:55:59.590927</td>\n",
       "      <td>treatment</td>\n",
       "      <td>new_page</td>\n",
       "      <td>0</td>\n",
       "    </tr>\n",
       "  </tbody>\n",
       "</table>\n",
       "</div>"
      ],
      "text/plain": [
       "      user_id                   timestamp      group landing_page  converted\n",
       "2893   773192  2017-01-14 02:55:59.590927  treatment     new_page          0"
      ]
     },
     "execution_count": 72,
     "metadata": {},
     "output_type": "execute_result"
    }
   ],
   "source": [
    "df2[df2.duplicated(['user_id'])]"
   ]
  },
  {
   "cell_type": "markdown",
   "metadata": {},
   "source": [
    "d. Remove **one** of the rows with a duplicate **user_id**, but keep your dataframe as **df2**."
   ]
  },
  {
   "cell_type": "code",
   "execution_count": 73,
   "metadata": {},
   "outputs": [],
   "source": [
    "df2 = df2.drop(df2.index[2893])"
   ]
  },
  {
   "cell_type": "code",
   "execution_count": 74,
   "metadata": {},
   "outputs": [
    {
     "name": "stdout",
     "output_type": "stream",
     "text": [
      "<class 'pandas.core.frame.DataFrame'>\n",
      "Int64Index: 290584 entries, 0 to 294477\n",
      "Data columns (total 5 columns):\n",
      "user_id         290584 non-null int64\n",
      "timestamp       290584 non-null object\n",
      "group           290584 non-null object\n",
      "landing_page    290584 non-null object\n",
      "converted       290584 non-null int64\n",
      "dtypes: int64(2), object(3)\n",
      "memory usage: 13.3+ MB\n"
     ]
    }
   ],
   "source": [
    "df2.info()"
   ]
  },
  {
   "cell_type": "code",
   "execution_count": 75,
   "metadata": {},
   "outputs": [
    {
     "data": {
      "text/html": [
       "<div>\n",
       "<style>\n",
       "    .dataframe thead tr:only-child th {\n",
       "        text-align: right;\n",
       "    }\n",
       "\n",
       "    .dataframe thead th {\n",
       "        text-align: left;\n",
       "    }\n",
       "\n",
       "    .dataframe tbody tr th {\n",
       "        vertical-align: top;\n",
       "    }\n",
       "</style>\n",
       "<table border=\"1\" class=\"dataframe\">\n",
       "  <thead>\n",
       "    <tr style=\"text-align: right;\">\n",
       "      <th></th>\n",
       "      <th>user_id</th>\n",
       "      <th>timestamp</th>\n",
       "      <th>group</th>\n",
       "      <th>landing_page</th>\n",
       "      <th>converted</th>\n",
       "    </tr>\n",
       "  </thead>\n",
       "  <tbody>\n",
       "    <tr>\n",
       "      <th>0</th>\n",
       "      <td>851104</td>\n",
       "      <td>2017-01-21 22:11:48.556739</td>\n",
       "      <td>control</td>\n",
       "      <td>old_page</td>\n",
       "      <td>0</td>\n",
       "    </tr>\n",
       "    <tr>\n",
       "      <th>1</th>\n",
       "      <td>804228</td>\n",
       "      <td>2017-01-12 08:01:45.159739</td>\n",
       "      <td>control</td>\n",
       "      <td>old_page</td>\n",
       "      <td>0</td>\n",
       "    </tr>\n",
       "    <tr>\n",
       "      <th>2</th>\n",
       "      <td>661590</td>\n",
       "      <td>2017-01-11 16:55:06.154213</td>\n",
       "      <td>treatment</td>\n",
       "      <td>new_page</td>\n",
       "      <td>0</td>\n",
       "    </tr>\n",
       "    <tr>\n",
       "      <th>3</th>\n",
       "      <td>853541</td>\n",
       "      <td>2017-01-08 18:28:03.143765</td>\n",
       "      <td>treatment</td>\n",
       "      <td>new_page</td>\n",
       "      <td>0</td>\n",
       "    </tr>\n",
       "    <tr>\n",
       "      <th>4</th>\n",
       "      <td>864975</td>\n",
       "      <td>2017-01-21 01:52:26.210827</td>\n",
       "      <td>control</td>\n",
       "      <td>old_page</td>\n",
       "      <td>1</td>\n",
       "    </tr>\n",
       "  </tbody>\n",
       "</table>\n",
       "</div>"
      ],
      "text/plain": [
       "   user_id                   timestamp      group landing_page  converted\n",
       "0   851104  2017-01-21 22:11:48.556739    control     old_page          0\n",
       "1   804228  2017-01-12 08:01:45.159739    control     old_page          0\n",
       "2   661590  2017-01-11 16:55:06.154213  treatment     new_page          0\n",
       "3   853541  2017-01-08 18:28:03.143765  treatment     new_page          0\n",
       "4   864975  2017-01-21 01:52:26.210827    control     old_page          1"
      ]
     },
     "execution_count": 75,
     "metadata": {},
     "output_type": "execute_result"
    }
   ],
   "source": [
    "df2.head()"
   ]
  },
  {
   "cell_type": "markdown",
   "metadata": {},
   "source": []
  },
  {
   "cell_type": "markdown",
   "metadata": {},
   "source": [
    "`4.` \n",
    "\n",
    "a. What is the probability of an individual converting regardless of the page they receive?"
   ]
  },
  {
   "cell_type": "code",
   "execution_count": 76,
   "metadata": {},
   "outputs": [
    {
     "data": {
      "text/plain": [
       "0.11959708724499628"
      ]
     },
     "execution_count": 76,
     "metadata": {},
     "output_type": "execute_result"
    }
   ],
   "source": [
    "df2.query('converted == 1').user_id.nunique()  / df2.user_id.count()\n",
    "\n"
   ]
  },
  {
   "cell_type": "markdown",
   "metadata": {},
   "source": [
    "b. Given that an individual was in the `control` group, what is the probability they converted?"
   ]
  },
  {
   "cell_type": "code",
   "execution_count": 77,
   "metadata": {},
   "outputs": [
    {
     "data": {
      "text/plain": [
       "0.1203863045004612"
      ]
     },
     "execution_count": 77,
     "metadata": {},
     "output_type": "execute_result"
    }
   ],
   "source": [
    "df_ctrl = df2[((df2['group'] == 'control') & (df2['converted'] == 1))].user_id.count() / df2[((df2['group'] == 'control'))].user_id.count() \n",
    "df_ctrl"
   ]
  },
  {
   "cell_type": "markdown",
   "metadata": {},
   "source": [
    "c. Given that an individual was in the `treatment` group, what is the probability they converted?"
   ]
  },
  {
   "cell_type": "code",
   "execution_count": 78,
   "metadata": {},
   "outputs": [
    {
     "data": {
      "text/plain": [
       "0.11880806551510564"
      ]
     },
     "execution_count": 78,
     "metadata": {},
     "output_type": "execute_result"
    }
   ],
   "source": [
    "df_treat = df2[((df2['group'] == 'treatment') & (df2['converted'] == 1))].user_id.count() / df2[((df2['group'] == 'treatment'))].user_id.count()\n",
    "df_treat"
   ]
  },
  {
   "cell_type": "code",
   "execution_count": 79,
   "metadata": {},
   "outputs": [
    {
     "data": {
      "text/plain": [
       "-0.0015782389853555567"
      ]
     },
     "execution_count": 79,
     "metadata": {},
     "output_type": "execute_result"
    }
   ],
   "source": [
    "Actual_Diff =  df_treat -df_ctrl \n",
    "Actual_Diff"
   ]
  },
  {
   "cell_type": "markdown",
   "metadata": {},
   "source": [
    "d. What is the probability that an individual received the new page?"
   ]
  },
  {
   "cell_type": "code",
   "execution_count": 80,
   "metadata": {},
   "outputs": [
    {
     "data": {
      "text/plain": [
       "0.50005850287696496"
      ]
     },
     "execution_count": 80,
     "metadata": {},
     "output_type": "execute_result"
    }
   ],
   "source": [
    "df2.query('landing_page == \"new_page\"').user_id.nunique()  / df2.user_id.count()"
   ]
  },
  {
   "cell_type": "markdown",
   "metadata": {},
   "source": [
    "e. Let's use the results in the previous two portions of this question to suggest if we can think there is evidence that one page leads to more conversions? "
   ]
  },
  {
   "cell_type": "markdown",
   "metadata": {},
   "source": [
    "The Probablity of Old Page Conversion = 12%\n",
    "The Probabity of New Page Conversion = 11.8%\n",
    "\n",
    "we fail to prove that there is such a significant evidence to say that the new treatment page leads to more conversions."
   ]
  },
  {
   "cell_type": "markdown",
   "metadata": {},
   "source": [
    "<a id='ab_test'></a>\n",
    "### Part II - A/B Test\n",
    "\n",
    "Notice that because of the time stamp associated with each event, we could technically run a hypothesis test continuously as each observation was observed.  \n",
    "\n",
    "However, then the hard question is do we stop as soon as one page is considered significantly better than another or does it need to happen consistently for a certain amount of time?  How long do we run to render a decision that neither page is better than another?  \n",
    "\n",
    "These questions are the difficult parts associated with A/B tests in general.  \n",
    "\n",
    "\n",
    "`1.` For now, consider we need to make the decision just based on all the data provided.  If we want to assume that the old page is better unless the new page proves to be definitely better at a Type I error rate of 5%, what should be null and alternative hypotheses be?  we can state wer hypothesis in terms of words or in terms of **$p_{old}$** and **$p_{new}$**, which are the converted rates for the old and new pages."
   ]
  },
  {
   "cell_type": "markdown",
   "metadata": {},
   "source": [
    "H0: Pnew <= Pold\n",
    "H1: Pnew > Pold"
   ]
  },
  {
   "cell_type": "markdown",
   "metadata": {},
   "source": [
    "`2.` Assume under the null hypothesis, $p_{new}$ and $p_{old}$ both have \"true\" success rates equal to the **converted** success rate regardless of page - that is $p_{new}$ and $p_{old}$ are equal. Furthermore, assume they are equal to the **converted** rate in **ab_data.csv** regardless of the page. <br><br>\n",
    "\n",
    "Use a sample size for each page equal to the ones in **ab_data.csv**.  <br><br>\n",
    "\n",
    "Perform the sampling distribution for the difference in **converted** between the two pages over 10,000 iterations of calculating an estimate from the null.  <br><br>\n",
    "\n",
    "Let's Use the cells below to provide the necessary parts of this simulation."
   ]
  },
  {
   "cell_type": "markdown",
   "metadata": {},
   "source": [
    "a. What is the **convert rate** for $p_{new}$ under the null? "
   ]
  },
  {
   "cell_type": "code",
   "execution_count": 81,
   "metadata": {},
   "outputs": [
    {
     "data": {
      "text/html": [
       "<div>\n",
       "<style>\n",
       "    .dataframe thead tr:only-child th {\n",
       "        text-align: right;\n",
       "    }\n",
       "\n",
       "    .dataframe thead th {\n",
       "        text-align: left;\n",
       "    }\n",
       "\n",
       "    .dataframe tbody tr th {\n",
       "        vertical-align: top;\n",
       "    }\n",
       "</style>\n",
       "<table border=\"1\" class=\"dataframe\">\n",
       "  <thead>\n",
       "    <tr style=\"text-align: right;\">\n",
       "      <th></th>\n",
       "      <th>user_id</th>\n",
       "      <th>timestamp</th>\n",
       "      <th>group</th>\n",
       "      <th>landing_page</th>\n",
       "      <th>converted</th>\n",
       "    </tr>\n",
       "  </thead>\n",
       "  <tbody>\n",
       "    <tr>\n",
       "      <th>0</th>\n",
       "      <td>851104</td>\n",
       "      <td>2017-01-21 22:11:48.556739</td>\n",
       "      <td>control</td>\n",
       "      <td>old_page</td>\n",
       "      <td>0</td>\n",
       "    </tr>\n",
       "    <tr>\n",
       "      <th>1</th>\n",
       "      <td>804228</td>\n",
       "      <td>2017-01-12 08:01:45.159739</td>\n",
       "      <td>control</td>\n",
       "      <td>old_page</td>\n",
       "      <td>0</td>\n",
       "    </tr>\n",
       "    <tr>\n",
       "      <th>2</th>\n",
       "      <td>661590</td>\n",
       "      <td>2017-01-11 16:55:06.154213</td>\n",
       "      <td>treatment</td>\n",
       "      <td>new_page</td>\n",
       "      <td>0</td>\n",
       "    </tr>\n",
       "    <tr>\n",
       "      <th>3</th>\n",
       "      <td>853541</td>\n",
       "      <td>2017-01-08 18:28:03.143765</td>\n",
       "      <td>treatment</td>\n",
       "      <td>new_page</td>\n",
       "      <td>0</td>\n",
       "    </tr>\n",
       "    <tr>\n",
       "      <th>4</th>\n",
       "      <td>864975</td>\n",
       "      <td>2017-01-21 01:52:26.210827</td>\n",
       "      <td>control</td>\n",
       "      <td>old_page</td>\n",
       "      <td>1</td>\n",
       "    </tr>\n",
       "  </tbody>\n",
       "</table>\n",
       "</div>"
      ],
      "text/plain": [
       "   user_id                   timestamp      group landing_page  converted\n",
       "0   851104  2017-01-21 22:11:48.556739    control     old_page          0\n",
       "1   804228  2017-01-12 08:01:45.159739    control     old_page          0\n",
       "2   661590  2017-01-11 16:55:06.154213  treatment     new_page          0\n",
       "3   853541  2017-01-08 18:28:03.143765  treatment     new_page          0\n",
       "4   864975  2017-01-21 01:52:26.210827    control     old_page          1"
      ]
     },
     "execution_count": 81,
     "metadata": {},
     "output_type": "execute_result"
    }
   ],
   "source": [
    "df2.head()"
   ]
  },
  {
   "cell_type": "code",
   "execution_count": 82,
   "metadata": {},
   "outputs": [
    {
     "data": {
      "text/plain": [
       "0.11959708724499628"
      ]
     },
     "execution_count": 82,
     "metadata": {},
     "output_type": "execute_result"
    }
   ],
   "source": [
    "Pnew = df2.query('converted == 1').user_id.nunique()  / df2.user_id.count()\n",
    "Pnew"
   ]
  },
  {
   "cell_type": "markdown",
   "metadata": {},
   "source": [
    "b. What is the **convert rate** for $p_{old}$ under the null? <br><br>"
   ]
  },
  {
   "cell_type": "code",
   "execution_count": 83,
   "metadata": {},
   "outputs": [
    {
     "data": {
      "text/plain": [
       "0.11959708724499628"
      ]
     },
     "execution_count": 83,
     "metadata": {},
     "output_type": "execute_result"
    }
   ],
   "source": [
    "Pold = df2.query('converted == 1').user_id.nunique()  / df2.user_id.count()\n",
    "Pold"
   ]
  },
  {
   "cell_type": "markdown",
   "metadata": {},
   "source": [
    "c. What is $n_{new}$?"
   ]
  },
  {
   "cell_type": "code",
   "execution_count": 84,
   "metadata": {},
   "outputs": [
    {
     "data": {
      "text/plain": [
       "145310"
      ]
     },
     "execution_count": 84,
     "metadata": {},
     "output_type": "execute_result"
    }
   ],
   "source": [
    "Nnew = df2.query('landing_page == \"new_page\"').user_id.count()\n",
    "Nnew"
   ]
  },
  {
   "cell_type": "markdown",
   "metadata": {},
   "source": [
    "d. What is $n_{old}$?"
   ]
  },
  {
   "cell_type": "code",
   "execution_count": 85,
   "metadata": {},
   "outputs": [
    {
     "data": {
      "text/plain": [
       "145274"
      ]
     },
     "execution_count": 85,
     "metadata": {},
     "output_type": "execute_result"
    }
   ],
   "source": [
    "Nold = df2.query('landing_page == \"old_page\"').user_id.count()\n",
    "Nold"
   ]
  },
  {
   "cell_type": "markdown",
   "metadata": {},
   "source": [
    "e. Simulate $n_{new}$ transactions with a convert rate of $p_{new}$ under the null.  Store these $n_{new}$ 1's and 0's in **new_page_converted**."
   ]
  },
  {
   "cell_type": "code",
   "execution_count": 86,
   "metadata": {},
   "outputs": [
    {
     "data": {
      "text/plain": [
       "array([0, 0, 1, ..., 0, 0, 0])"
      ]
     },
     "execution_count": 86,
     "metadata": {},
     "output_type": "execute_result"
    }
   ],
   "source": [
    "new_page_converted = np.random.binomial(1,Pnew,Nnew)\n",
    "new_page_converted"
   ]
  },
  {
   "cell_type": "markdown",
   "metadata": {},
   "source": [
    "f. Simulate $n_{old}$ transactions with a convert rate of $p_{old}$ under the null.  Store these $n_{old}$ 1's and 0's in **old_page_converted**."
   ]
  },
  {
   "cell_type": "code",
   "execution_count": 87,
   "metadata": {},
   "outputs": [
    {
     "data": {
      "text/plain": [
       "array([0, 1, 0, ..., 0, 0, 0])"
      ]
     },
     "execution_count": 87,
     "metadata": {},
     "output_type": "execute_result"
    }
   ],
   "source": [
    "old_page_converted = np.random.binomial(1,Pold,Nold)\n",
    "old_page_converted"
   ]
  },
  {
   "cell_type": "markdown",
   "metadata": {},
   "source": [
    "g. Find $p_{new}$ - $p_{old}$ for your simulated values from part (e) and (f)."
   ]
  },
  {
   "cell_type": "code",
   "execution_count": 88,
   "metadata": {},
   "outputs": [
    {
     "data": {
      "text/plain": [
       "0.0004314301947883209"
      ]
     },
     "execution_count": 88,
     "metadata": {},
     "output_type": "execute_result"
    }
   ],
   "source": [
    "Pdiff = (sum(new_page_converted == 1) / Nnew) - (sum(old_page_converted == 1) / Nold)\n",
    "Pdiff"
   ]
  },
  {
   "cell_type": "markdown",
   "metadata": {},
   "source": [
    "h. Simulate 10,000 $p_{new}$ - $p_{old}$ values using this same process similarly to the one you calculated in parts **a. through g.** above.  Store all 10,000 values in **p_diffs**."
   ]
  },
  {
   "cell_type": "code",
   "execution_count": 31,
   "metadata": {},
   "outputs": [
    {
     "data": {
      "text/plain": [
       "[0.0015188153014080857,\n",
       " -0.0015577452469728997,\n",
       " 0.0014637281887232706,\n",
       " 0.00080295228526594542,\n",
       " 0.00060348469233120761,\n",
       " -0.00017420402408327429,\n",
       " 0.00093397326100211342,\n",
       " 3.2430204786534911e-05,\n",
       " -2.1512319123007106e-06,\n",
       " 0.0020283629932262015,\n",
       " -0.00091067844926936981,\n",
       " -0.0022046670880647018,\n",
       " -0.0013302506247613449,\n",
       " 0.00082384678604573158,\n",
       " -9.8645342850520179e-05,\n",
       " 0.00099591151582002768,\n",
       " -0.0019566514415200326,\n",
       " -0.0021977699008902396,\n",
       " -0.0011720467788401551,\n",
       " -0.0025760680971372296,\n",
       " -0.0010071179883066883,\n",
       " 0.00013529113223749445,\n",
       " -0.0002157559789483926,\n",
       " -0.00060754669871752875,\n",
       " -0.0011513927354986492,\n",
       " 0.0012920744535774992,\n",
       " 0.00031458218596346066,\n",
       " 3.918243534926924e-05,\n",
       " -0.00022904044709841365,\n",
       " 0.0015809172719286474,\n",
       " -0.00029114753373470081,\n",
       " 0.00076869998534431772,\n",
       " 0.0013950257657392856,\n",
       " 0.00062444911335900188,\n",
       " 0.0009961315087954753,\n",
       " -0.00030507151634820429,\n",
       " -0.0014059406196306051,\n",
       " 0.0022346646745750043,\n",
       " 0.0016085844677340144,\n",
       " 3.9284757663446412e-05,\n",
       " 0.00067908089174582853,\n",
       " 0.0003215254181792998,\n",
       " -0.00067648957913976626,\n",
       " -7.0920164400467556e-05,\n",
       " -0.00061459736936321507,\n",
       " -7.7539375954796541e-05,\n",
       " -0.0021908693029719789,\n",
       " -0.0011857405362468293,\n",
       " 0.0021868806275774644,\n",
       " -0.00077983312683917172,\n",
       " -0.0018810961710310631,\n",
       " 0.00074807663869705388,\n",
       " -0.0014958189297582941,\n",
       " -0.00055971831205052502,\n",
       " -0.0014201493993518527,\n",
       " -0.00017406588895915731,\n",
       " 0.0011405699716900836,\n",
       " 0.00036278404907715001,\n",
       " -0.00016711754062762041,\n",
       " 0.00068625946528422244,\n",
       " 0.00091995036681824516,\n",
       " 0.0023379195429354682,\n",
       " -0.00066282822379924722,\n",
       " -0.00042196386484254222,\n",
       " -0.0013784456663874234,\n",
       " -0.0019084325246873229,\n",
       " 0.0013059165783396998,\n",
       " 0.00082395592984750576,\n",
       " 0.00044540704393082609,\n",
       " 0.0019113461525829684,\n",
       " 0.00085149863350396371,\n",
       " 0.00088557528011963538,\n",
       " -0.00069733632950627622,\n",
       " -0.00097237624664900379,\n",
       " 0.00034215558631417453,\n",
       " -0.00031173336220009784,\n",
       " 0.00028007066951263315,\n",
       " -0.0028035678354644822,\n",
       " 0.00028717761743110581,\n",
       " -0.0013857248568680536,\n",
       " -0.00082103377509233633,\n",
       " -0.00021550870002250144,\n",
       " -0.00062157982513282029,\n",
       " -0.0020599404173185371,\n",
       " -5.7066102034958321e-05,\n",
       " -0.0012341555708483415,\n",
       " -0.0031817364234468792,\n",
       " -0.0010411622328561909,\n",
       " -0.001151658773515446,\n",
       " -0.0002291512962720732,\n",
       " 0.0001423912586683701,\n",
       " -0.0033056385136612521,\n",
       " -0.00085557769360931901,\n",
       " 0.0008377520095683294,\n",
       " 0.00014270675247035625,\n",
       " -0.00023584383881822268,\n",
       " -9.8520850701624973e-05,\n",
       " -0.0017571446250315287,\n",
       " -0.0014750983769125647,\n",
       " -0.00055236579057806046,\n",
       " -0.0013167649227267958,\n",
       " 0.0023445660404402269,\n",
       " 0.0018353901196968975,\n",
       " 0.00061735410304383787,\n",
       " 0.00039698518784168912,\n",
       " -0.00075925923597706946,\n",
       " 0.00060335508406660077,\n",
       " -0.0012892375674174589,\n",
       " 0.0012161047777161926,\n",
       " 0.0011957116562757858,\n",
       " 0.00067236788473686027,\n",
       " 0.0027988680199865779,\n",
       " -9.1546921791543778e-05,\n",
       " -0.00011231351967863623,\n",
       " 0.0017597649289599337,\n",
       " 0.0013331420828222584,\n",
       " 0.0013812041054399316,\n",
       " -0.00075230065541410929,\n",
       " 0.0016153605735033799,\n",
       " -0.0011583359677144744,\n",
       " 0.0021109723451046558,\n",
       " -0.001041225331616602,\n",
       " 0.00078956378942986183,\n",
       " -0.00021561954919617488,\n",
       " 0.00042454665058909435,\n",
       " -0.0011171421409489207,\n",
       " 0.0018768551005949735,\n",
       " 0.00059000581178428324,\n",
       " -0.00022220976942814719,\n",
       " -0.00036684605546347115,\n",
       " 0.00030770887399562963,\n",
       " 0.00095448916921951621,\n",
       " -0.0012616999798766987,\n",
       " -0.0010482828237499131,\n",
       " 0.00081697517944981368,\n",
       " 0.00045928498150296648,\n",
       " 0.00092010385028948316,\n",
       " -0.00037386091329920379,\n",
       " -0.0002433003879767498,\n",
       " 0.001821764577166346,\n",
       " 0.0017736019376064088,\n",
       " 0.00013524508719613137,\n",
       " 0.00044504721045937612,\n",
       " -0.0022390507016228217,\n",
       " 0.0010030645087798773,\n",
       " -6.4086075986402591e-05,\n",
       " 0.0013128239977455575,\n",
       " -0.0017915145956144407,\n",
       " -0.00054572611456089881,\n",
       " -0.0005528194195041497,\n",
       " -0.00024984797391117142,\n",
       " 0.0013538182959985101,\n",
       " -0.00015376315222957737,\n",
       " -0.00042189564996643336,\n",
       " 0.0010508519665212296,\n",
       " -0.0006698567246102155,\n",
       " 0.0011887019145557509,\n",
       " -0.0001050275077103674,\n",
       " -0.0014132624444088138,\n",
       " -0.00050454252002675448,\n",
       " 0.00051410435079908556,\n",
       " 0.001684192604751944,\n",
       " -9.8684566404272367e-05,\n",
       " 0.00087194632684527151,\n",
       " 0.00086525207892722278,\n",
       " -0.00019501155089603206,\n",
       " -0.0021012416825139657,\n",
       " -0.0015231348189517074,\n",
       " 0.0016565151767151814,\n",
       " -0.00022926214544576051,\n",
       " 0.00083763092816324658,\n",
       " -0.0023491106670750078,\n",
       " -0.0013580883577569564,\n",
       " 0.00056225505275568632,\n",
       " -0.0005113493224903759,\n",
       " -0.0022872269841579806,\n",
       " 9.4168931091848096e-05,\n",
       " 0.00087881622806929016,\n",
       " 0.00036954310112749522,\n",
       " 0.000527699196635395,\n",
       " 0.0017325752372873288,\n",
       " -0.0013920865572650959,\n",
       " 0.0011196345419846321,\n",
       " -0.0002018626930291173,\n",
       " -0.00021557179878289867,\n",
       " 0.00015651647516640166,\n",
       " -0.00035998468109896264,\n",
       " 0.00081001148277115576,\n",
       " -0.0010964744546321792,\n",
       " 0.00039713867131294101,\n",
       " -0.0024591740432709924,\n",
       " -0.0015366819143747407,\n",
       " 0.0023172092223211621,\n",
       " -3.6517791751400352e-05,\n",
       " -0.00032576307787157699,\n",
       " 0.0013264393080447134,\n",
       " 0.0012779969874927438,\n",
       " 0.0015742673636800764,\n",
       " -0.0016059471100865752,\n",
       " 0.0014294025578098224,\n",
       " 0.00061734898692812623,\n",
       " -0.00033221686835135933,\n",
       " 0.0001219589136741972,\n",
       " 0.002324249660735439,\n",
       " 0.00012165535747553358,\n",
       " -0.00054579603480890693,\n",
       " 1.1566400701004675e-05,\n",
       " 0.00015617710615777047,\n",
       " -0.00062176059455448796,\n",
       " -0.00016759333938846932,\n",
       " 0.0010923783408078036,\n",
       " -0.0012546953542723893,\n",
       " -0.00055978482155472076,\n",
       " -0.00065623459282346253,\n",
       " 0.00065863149303262147,\n",
       " -0.0015506468259139233,\n",
       " 0.0019044591976399294,\n",
       " -0.00024281776772830388,\n",
       " -0.00010525261680152664,\n",
       " 0.00050723444957506691,\n",
       " 0.0009270607254805302,\n",
       " 0.0011883761885223554,\n",
       " -0.00032531968117689714,\n",
       " 0.0006175451046969288,\n",
       " -0.00023597344708282952,\n",
       " -0.0025073025753928613,\n",
       " 0.0008582713285295307,\n",
       " -0.00082113780277839887,\n",
       " 0.00035603693463012731,\n",
       " 0.00055536980318456053,\n",
       " -0.00058724566735986194,\n",
       " -0.0015436780131195538,\n",
       " -0.00088295327081931718,\n",
       " -0.0022599861313282732,\n",
       " -0.00021548994093156804,\n",
       " 0.0015812105958959155,\n",
       " 0.0001697242015808037,\n",
       " 0.0017255075129225944,\n",
       " 0.00072068741851182005,\n",
       " -0.00047700834322980668,\n",
       " -0.0011860048688917407,\n",
       " -0.00040813879379938967,\n",
       " 0.00076176357461610333,\n",
       " -0.00019474380750730824,\n",
       " -0.0022047216599655889,\n",
       " 0.0012364501487433371,\n",
       " -0.0018878347586185756,\n",
       " -0.00045626903129315777,\n",
       " 0.00032843624832896989,\n",
       " 0.00074142502507656971,\n",
       " 0.00033522429170165791,\n",
       " -0.00072493360506362126,\n",
       " -0.0011583461999458838,\n",
       " -0.001123863674817413,\n",
       " 0.00012153768681423538,\n",
       " -0.00052536880593043178,\n",
       " -0.00016739210550394124,\n",
       " 0.0012299827152883469,\n",
       " 0.00059680408738838064,\n",
       " 0.00096148697333624245,\n",
       " -0.00052511641088884287,\n",
       " -0.0013165142330571061,\n",
       " 0.0015739382269028684,\n",
       " 0.00034202427267766844,\n",
       " 0.0007000743040959656,\n",
       " 0.0027166099747200773,\n",
       " -0.00073809869718047261,\n",
       " 0.0011266800965146068,\n",
       " -0.0018810569474773248,\n",
       " 0.0013881473376557707,\n",
       " -0.00068344474895891405,\n",
       " -0.00093806425871077737,\n",
       " -0.00091781609388209839,\n",
       " -0.00031182204153903936,\n",
       " 0.0019316540054282599,\n",
       " -0.00038734320458994054,\n",
       " 1.1772750701230517e-05,\n",
       " 0.00092035965607487058,\n",
       " -0.00078648985657535364,\n",
       " 0.0010442890322396869,\n",
       " -0.0012546186125367703,\n",
       " 0.0025235859400336846,\n",
       " 0.0029644840753968171,\n",
       " -0.0020599949892194241,\n",
       " -0.00031168731715872089,\n",
       " 0.00017695393627627232,\n",
       " 0.00011520156699575124,\n",
       " 0.0015399519649980653,\n",
       " 9.43991562987051e-05,\n",
       " -6.3949646234184865e-05,\n",
       " -0.0024109090813969059,\n",
       " -0.00082782863995263523,\n",
       " 0.00018378290857462565,\n",
       " 0.00036964883418545702,\n",
       " -0.0003393749774269067,\n",
       " -0.00076586821529998905,\n",
       " 0.00055551646516817377,\n",
       " 0.00028709746495168831,\n",
       " -0.00077305190495408072,\n",
       " -0.00058011143349093186,\n",
       " -0.00084177990851659612,\n",
       " -0.00030483105890993789,\n",
       " -0.0013442223577881246,\n",
       " -0.00024289280409200975,\n",
       " 0.0015603007467690083,\n",
       " 0.0015051351869766472,\n",
       " 0.000314484979765009,\n",
       " 0.00023207174565535726,\n",
       " -0.001082674964167557,\n",
       " 0.00052789872514799607,\n",
       " 0.0037282112910159149,\n",
       " 0.00095464435806266734,\n",
       " -0.0019362105696663495,\n",
       " 0.0012920198816766121,\n",
       " 0.0010235036752616611,\n",
       " -0.0015368098172674344,\n",
       " 0.00068632085867272041,\n",
       " -0.0012685016662246223,\n",
       " 0.00032812075452698375,\n",
       " 0.00093408069943198835,\n",
       " 0.00092732505812544164,\n",
       " 0.00041091769731473049,\n",
       " -0.0015989612435731854,\n",
       " -0.00055273926702473219,\n",
       " -0.00062155424455427599,\n",
       " -4.34934260333808e-05,\n",
       " -0.0014404265555029022,\n",
       " 0.00069301681196265452,\n",
       " -0.00053895512490723108,\n",
       " 0.00056214249821011364,\n",
       " -0.00097269344582288919,\n",
       " -2.9519987634687994e-05,\n",
       " -0.00069021062249687015,\n",
       " -0.0033265210768377296,\n",
       " -0.001646973810405683,\n",
       " 0.0014365112111002082,\n",
       " -0.00029803789942152437,\n",
       " -0.00023619173468637789,\n",
       " -0.00088978735923338215,\n",
       " 0.00063119793317793771,\n",
       " 5.9575556789689954e-05,\n",
       " 0.001422604282205725,\n",
       " -0.0012757433385234135,\n",
       " 0.0013193289493824145,\n",
       " 0.0026064442762099294,\n",
       " 0.00050039524504530419,\n",
       " -0.0009796315619230167,\n",
       " -0.00033902708155877925,\n",
       " -0.00049094767419044505,\n",
       " 0.0002387370022510632,\n",
       " -0.00066289132255964445,\n",
       " -0.00096574339211945304,\n",
       " -0.0013167461636358763,\n",
       " 0.0018768704489420945,\n",
       " 0.00070692033011335309,\n",
       " 0.00045192052242719327,\n",
       " 0.00025251602825285269,\n",
       " 0.0001838732932854803,\n",
       " 0.0014639498870706036,\n",
       " 0.0010374088987842589,\n",
       " -0.001419968629930185,\n",
       " -0.0006906028580344753,\n",
       " -0.00072461470051783661,\n",
       " -0.00058026491696216986,\n",
       " 0.0011061232593715525,\n",
       " -0.00057350586491182465,\n",
       " 0.00049341108390381361,\n",
       " -0.00079358145614671916,\n",
       " -0.00073147778025424437,\n",
       " -0.0014612187339685251,\n",
       " 0.0023792924337508042,\n",
       " 0.002262229548066208,\n",
       " -0.0011239779347348849,\n",
       " -0.00086912819977615074,\n",
       " 0.0005625279122601079,\n",
       " 0.00063109561086377441,\n",
       " -0.0017156387152077873,\n",
       " -0.0026244285598378547,\n",
       " -0.0014749141967470986,\n",
       " 0.00044530642698857592,\n",
       " 0.00024565465388834418,\n",
       " 0.00030798343887196433,\n",
       " 0.00063104956582239746,\n",
       " -2.9779204163887796e-05,\n",
       " 0.0022622551286447523,\n",
       " -0.0014889387963028661,\n",
       " -0.00011224530480252737,\n",
       " 0.00066520465954558738,\n",
       " 0.00032839873014711696,\n",
       " -0.00060775134334584147,\n",
       " -0.00038760924260675123,\n",
       " 0.0022760767889441064,\n",
       " -0.00018794723727511009,\n",
       " 0.00032824183593206657,\n",
       " -0.00015346471214662538,\n",
       " 0.00065863490377643386,\n",
       " -0.0010826118654071598,\n",
       " 0.00095421119359939688,\n",
       " 0.0016910744435792852,\n",
       " 0.0001080042343664378,\n",
       " -0.0013579416957733292,\n",
       " -0.00014668690100534676,\n",
       " 0.0014709357535840073,\n",
       " -0.00034605387699783441,\n",
       " 0.0002318977977212866,\n",
       " -0.00021532281448512214,\n",
       " 0.00027319735754480212,\n",
       " -0.0013855185068678555,\n",
       " 5.9781906789901917e-05,\n",
       " -0.00032563517497888328,\n",
       " 0.00048639963681187948,\n",
       " 0.0003420157458181583,\n",
       " -0.00061459736936321507,\n",
       " -0.0013921837634635476,\n",
       " -0.0017363967862353558,\n",
       " 0.00023205128119252461,\n",
       " 0.0012297917136352421,\n",
       " 0.00018368740774808712,\n",
       " 0.00016308111481984355,\n",
       " -0.0021631748212161822,\n",
       " -0.001316260132643618,\n",
       " 0.0010991220445110278,\n",
       " -0.0020738712214196653,\n",
       " 0.00098208985552067363,\n",
       " -0.0012680650910175534,\n",
       " -0.0021358128869813919,\n",
       " -0.00027731734657580887,\n",
       " 0.00045882453108926635,\n",
       " -0.00065579290150068192,\n",
       " 0.0010371019318417829,\n",
       " -0.00069019527414974913,\n",
       " 0.00015616346318256258,\n",
       " 0.00094784778783046919,\n",
       " 0.0015739467537623786,\n",
       " -0.0005664534888942252,\n",
       " -0.0011654292726577392,\n",
       " 0.00044523309599675542,\n",
       " 0.00025964685137797039,\n",
       " 0.0012089705438472764,\n",
       " -0.0011721815032204735,\n",
       " 0.0010854453408234016,\n",
       " 0.00014930208881805407,\n",
       " -0.00097269515119480232,\n",
       " -0.0010001611131156413,\n",
       " 0.00074828639944107822,\n",
       " -0.00013290446425974489,\n",
       " -0.00044953897056515535,\n",
       " -0.00068349591011600264,\n",
       " -0.0019085075610510427,\n",
       " 0.0036390219511368976,\n",
       " 0.0010647691276471499,\n",
       " -0.0012686159261420943,\n",
       " -0.00065576902629405076,\n",
       " -0.00018072944018295012,\n",
       " -0.0018056244637653374,\n",
       " -0.00069029930183581167,\n",
       " 0.00040401368865265741,\n",
       " 0.0015601029236282926,\n",
       " 0.0017390034471885391,\n",
       " -0.0016678376144912133,\n",
       " -0.00042182402434652599,\n",
       " -0.00055247322900792151,\n",
       " 0.0014295134069834958,\n",
       " 0.00049334627977150325,\n",
       " 0.00073402645856272819,\n",
       " -0.0024799321142985609,\n",
       " -0.0010826783749113555,\n",
       " 0.00020429199530441755,\n",
       " -0.00045647197054955735,\n",
       " -0.00051149427910210377,\n",
       " 6.6482976195561538e-05,\n",
       " -0.00095878822230030525,\n",
       " -0.00038045795501880086,\n",
       " 0.00074098674449758761,\n",
       " -0.0004289292668930994,\n",
       " 2.5234577529120727e-05,\n",
       " 0.0014571447899788814,\n",
       " 0.00085830031985188737,\n",
       " 0.0012574537933249114,\n",
       " 0.00049367541654872504,\n",
       " -0.0012684368620923259,\n",
       " -0.00027051566022791296,\n",
       " 0.00038992940108029117,\n",
       " 0.0015465166046514933,\n",
       " -0.00082117532096025181,\n",
       " 0.0017669298595231059,\n",
       " 0.00073449202509215383,\n",
       " -0.0011171387302051083,\n",
       " 0.00067929576860556451,\n",
       " 0.002317369527280011,\n",
       " 0.00076198015684772469,\n",
       " 0.0011610892906512849,\n",
       " -0.00011200655273616023,\n",
       " -0.0016055139456233047,\n",
       " 0.0028197147703531017,\n",
       " -0.0014405050026104205,\n",
       " -0.00023636056650472304,\n",
       " 0.00057575951388115498,\n",
       " 0.0012368713756032851,\n",
       " 0.00032144185495606992,\n",
       " -0.00071107954269811202,\n",
       " -0.00031185444360518066,\n",
       " -0.00095195413388625416,\n",
       " -0.0022115796235862711,\n",
       " 0.0016978249687701202,\n",
       " -0.00071799037284779599,\n",
       " 0.0025443099036232125,\n",
       " 0.00068631403718510953,\n",
       " 0.00086486837024912777,\n",
       " 0.001629144715620881,\n",
       " 0.0019182518666169407,\n",
       " -0.00089694717368084265,\n",
       " 0.00056927673207904372,\n",
       " 0.0017530382789757437,\n",
       " -0.0014338448621304262,\n",
       " 0.0014433930499275355,\n",
       " -0.00046987581473278972,\n",
       " 0.0010852117048727322,\n",
       " 0.0013743222666126043,\n",
       " 0.00021806078907481152,\n",
       " -8.4624154038551169e-05,\n",
       " -0.0022390353532757007,\n",
       " 0.00048683450664703531,\n",
       " -0.0011034023385008834,\n",
       " 0.00096152619688999463,\n",
       " -0.0027758835859401088,\n",
       " -0.001778032304323704,\n",
       " -0.0016401772401734849,\n",
       " 0.00012194527069896155,\n",
       " 0.00061039722785279082,\n",
       " -0.0010276049052017483,\n",
       " -0.0018811166354939096,\n",
       " -0.00081433270568667671,\n",
       " -0.00042181208674320347,\n",
       " -0.00040798701570005091,\n",
       " 0.0014504130238789797,\n",
       " 0.0033564368054967153,\n",
       " -0.0018260738624785444,\n",
       " 0.0017184449046735856,\n",
       " -0.00044975384742489133,\n",
       " -0.0017431387845666946,\n",
       " -0.00020844097565778097,\n",
       " 0.00050014626074751378,\n",
       " 0.0026544312624638827,\n",
       " -0.0015782253423803488,\n",
       " -0.00018126151621657149,\n",
       " 0.0013262909406891732,\n",
       " -0.00060094795162603243,\n",
       " -0.00072460958440212497,\n",
       " -0.0010206241548040562,\n",
       " -0.00029098381803203954,\n",
       " -0.0004976675026870242,\n",
       " -0.00035981073316489198,\n",
       " 0.0012369003669256418,\n",
       " 0.00060364158654625799,\n",
       " -7.0909932169044287e-05,\n",
       " -0.00072478864845189339,\n",
       " -0.0023146025613679788,\n",
       " -0.00084857818412069352,\n",
       " 0.0020074173312893268,\n",
       " -9.1657770965217211e-05,\n",
       " 8.0352386908191797e-05,\n",
       " -2.9799668626720455e-05,\n",
       " 0.00023160106301021999,\n",
       " -2.2762640956255908e-05,\n",
       " -0.0011306551289338995,\n",
       " -0.0021290009684020728,\n",
       " 0.00061063086380346021,\n",
       " 0.00095455397335182657,\n",
       " -0.0020602746702114566,\n",
       " -0.00042201161525581843,\n",
       " 4.5973889465769635e-05,\n",
       " -0.00056656263269599938,\n",
       " 0.00072747887262830657,\n",
       " -0.0010276270750364802,\n",
       " 0.00095459660764939114,\n",
       " -0.00036703705711656209,\n",
       " 0.0015189585526479005,\n",
       " 0.0003214333280965459,\n",
       " -0.0007868718598815494,\n",
       " 0.00079633989519922732,\n",
       " -0.00068322134523966793,\n",
       " 0.0012987618800079231,\n",
       " -0.0012822414686726458,\n",
       " -0.00051833859974757812,\n",
       " -0.00091062899348418047,\n",
       " -0.00060084904005568152,\n",
       " 0.00062403470798666483,\n",
       " -0.0011792799242794361,\n",
       " 0.00077553748450218118,\n",
       " 0.00031428886199620643,\n",
       " 0.00017008403505226755,\n",
       " 0.0011131312957196743,\n",
       " 0.00081693083978034986,\n",
       " -0.00087608507496721166,\n",
       " 0.0014979958369920193,\n",
       " 0.0011264669250267839,\n",
       " 0.00075507273744186698,\n",
       " -0.0013028682260637359,\n",
       " 0.00089966468380769937,\n",
       " 0.0018425141213344043,\n",
       " -0.001936128711815005,\n",
       " -0.00062140928794254813,\n",
       " 0.00083082753644342366,\n",
       " -0.00036011940547926724,\n",
       " -0.0019360724345422325,\n",
       " -0.0011032539711453571,\n",
       " -0.001454215813736115,\n",
       " -0.0030373917560069241,\n",
       " -0.0011448127474980863,\n",
       " 0.00079653089685233214,\n",
       " -0.00019498938106130015,\n",
       " 0.0013329698402601009,\n",
       " -0.00069043061547231777,\n",
       " -0.0011581893057308473,\n",
       " -0.0013441507321682172,\n",
       " -0.0021700771245063422,\n",
       " -0.00056632388062961836,\n",
       " -0.00063535885113460977,\n",
       " 0.001477529384559792,\n",
       " -5.7207647902873804e-05,\n",
       " -0.00014680798241044346,\n",
       " 0.00090637428007286913,\n",
       " 0.0014914465456856846,\n",
       " 0.0031157873233997324,\n",
       " 0.0001079598946969601,\n",
       " -0.00077285749255719127,\n",
       " -0.0019223479804413302,\n",
       " -0.00076617006612675342,\n",
       " 0.00034191683424779351,\n",
       " 0.001663422596121053,\n",
       " -0.0024591723378990793,\n",
       " 0.00078944100265286588,\n",
       " -0.00075899149258834564,\n",
       " -0.00096561037311104769,\n",
       " 0.00044543774062506813,\n",
       " 0.00037652726226897193,\n",
       " -0.00034642223732880839,\n",
       " 0.00031467939216191232,\n",
       " -0.00033246073653343811,\n",
       " -0.0020601126598807223,\n",
       " -0.001839769325257104,\n",
       " -0.00020854500334384352,\n",
       " 0.00072082384826403778,\n",
       " -0.0014131857026731948,\n",
       " 0.0018081594990986272,\n",
       " 0.00061053877372070631,\n",
       " 0.0020075145374877923,\n",
       " -0.002542076719116701,\n",
       " -0.00095200870578714125,\n",
       " 0.00072721112923961051,\n",
       " 0.00085123771160286466,\n",
       " 0.00045183525383205025,\n",
       " 0.00044512054145118274,\n",
       " 0.00022505688781962463,\n",
       " -0.00055951025667838605,\n",
       " -0.00014655899811265305,\n",
       " 0.00099580919350586439,\n",
       " 0.0015396057745018094,\n",
       " 0.00032823160370065718,\n",
       " 0.00045232810631191944,\n",
       " 0.00080312282245621758,\n",
       " 0.0015190182406645131,\n",
       " 0.00020429540604822993,\n",
       " -0.00039436829465709644,\n",
       " 0.0012507731883820705,\n",
       " 0.00039684023122997514,\n",
       " -0.001048320341931766,\n",
       " -0.00040120067769926215,\n",
       " -3.6391594230605895e-05,\n",
       " 0.0022759369484480901,\n",
       " 0.0025170622293058942,\n",
       " -0.00023620708303348503,\n",
       " -0.001013911147795088,\n",
       " -0.00071096528278064008,\n",
       " 0.0013743785438853906,\n",
       " 0.00018384259659122437,\n",
       " 0.0015122114382008917,\n",
       " 0.00019059312178205945,\n",
       " -0.00010540268952895226,\n",
       " -0.00017420231871136116,\n",
       " 3.2157345282113337e-05,\n",
       " 5.988252373216596e-05,\n",
       " 0.0013953327326817755,\n",
       " -0.0024451460329714125,\n",
       " 0.00014945727766117745,\n",
       " -1.5995062046400554e-05,\n",
       " -0.00019478814717677206,\n",
       " -0.00050456980597718415,\n",
       " 0.00081680975837526704,\n",
       " -0.00047716353207294393,\n",
       " 0.00090636404784145974,\n",
       " -4.3641793388921046e-05,\n",
       " -0.0013923679436290276,\n",
       " -0.00096553022063161631,\n",
       " -0.00017410340714102412,\n",
       " 0.00022503642335677809,\n",
       " 0.00047287130047976578,\n",
       " 0.00014266411817279168,\n",
       " 0.0011472130584510437,\n",
       " 0.00086500991611704325,\n",
       " -0.00031866806755641297,\n",
       " -0.00094519337646400969,\n",
       " -0.00013969421300434604,\n",
       " 0.00047279967485985841,\n",
       " -0.00027043550774848157,\n",
       " -0.00079374005573365491,\n",
       " 0.00025243075965770967,\n",
       " -0.0014062612295483029,\n",
       " 0.00087870878963941523,\n",
       " 0.00034198845986771476,\n",
       " 0.0015535604538095826,\n",
       " 0.00036952604740846107,\n",
       " 0.0014158025958578013,\n",
       " -0.0011240870785366452,\n",
       " -0.00082795654284532894,\n",
       " 0.0011679182629496382,\n",
       " 0.00031446451530217634,\n",
       " -0.00064226115442476972,\n",
       " 0.00016324824126630333,\n",
       " -0.0011170449347504552,\n",
       " -0.0023150800655007131,\n",
       " -0.00094504330373657019,\n",
       " -0.001179286745767047,\n",
       " -0.001124177463247486,\n",
       " 0.00055537491930025829,\n",
       " -0.00053222335880732941,\n",
       " -0.00011911861677034452,\n",
       " -0.00054594099142063479,\n",
       " 0.00047978895211706063,\n",
       " 0.00059670005970233198,\n",
       " -0.0017506652539732159,\n",
       " -0.00020172114716120182,\n",
       " -0.0013854264167851016,\n",
       " -7.7844637525359417e-05,\n",
       " -0.00026372250073951331,\n",
       " -0.0002363844417113542,\n",
       " 0.00091325952964400881,\n",
       " 0.00095462900971554632,\n",
       " -0.00095887178552353514,\n",
       " -0.00016031585427971062,\n",
       " -0.004076738715215647,\n",
       " 0.00052800786894977025,\n",
       " -0.0002568611263750048,\n",
       " 0.0010235667740220722,\n",
       " 8.0700282776333121e-05,\n",
       " -0.0010000843713800223,\n",
       " -0.00027727130153444579,\n",
       " -0.0014405425207922734,\n",
       " -0.00018813141744060402,\n",
       " 0.00010107805586963281,\n",
       " -0.0012408685778573098,\n",
       " -0.00011914931346458657,\n",
       " 0.0016498089911938241,\n",
       " 0.00085115073763583626,\n",
       " 0.001904486483590373,\n",
       " 0.0010649652454159386,\n",
       " 0.00023871994853202905,\n",
       " 2.5534722983985847e-05,\n",
       " -0.00053196584765004273,\n",
       " 0.00077563127995683434,\n",
       " 0.0010508366181741086,\n",
       " 0.0022484607542958279,\n",
       " -0.001530195721828817,\n",
       " -0.0024319621817636278,\n",
       " 0.0007549925849624356,\n",
       " 0.00026618761582478112,\n",
       " -0.00064222875235861454,\n",
       " 0.0020969750314993318,\n",
       " 0.0012851670341716276,\n",
       " 0.0010852816251207403,\n",
       " -0.0013028051273033248,\n",
       " -0.002748327239308429,\n",
       " 0.001092267491634144,\n",
       " 0.0020904172133335008,\n",
       " -0.0015372429817307048,\n",
       " -0.0014268231828070826,\n",
       " -0.0013306974321998372,\n",
       " -0.00014003187664106409,\n",
       " -0.00065620389612922048,\n",
       " -0.00077974956361594183,\n",
       " -0.0033678359850083661,\n",
       " 0.0026136126175169,\n",
       " -0.00053905915259329362,\n",
       " 0.00039011187587387197,\n",
       " -0.00073191094471751483,\n",
       " 0.00085138437358649177,\n",
       " -0.0011583564321773071,\n",
       " -0.00064917539531826607,\n",
       " -2.2685899220636907e-05,\n",
       " -0.000359896001760035,\n",
       " 0.00099633956416760039,\n",
       " -0.00093155419095822256,\n",
       " 0.00070690157102241968,\n",
       " 0.0008515532054048508,\n",
       " 0.00019751077341934042,\n",
       " -0.00066266280272470057,\n",
       " 0.0013608348592061698,\n",
       " -0.0011516690057468693,\n",
       " 0.00047252852072733609,\n",
       " -7.7820762318728254e-05,\n",
       " 0.0022622772984794842,\n",
       " 0.0016567419911782261,\n",
       " 0.0030949252246860876,\n",
       " 0.0012989238903386852,\n",
       " -0.0012545759782391919,\n",
       " -0.0026589162010820649,\n",
       " -0.001027679941565468,\n",
       " -0.00053889032077493459,\n",
       " 0.0006863276801603313,\n",
       " 0.0030953481569179347,\n",
       " 0.0012436764726950211,\n",
       " -0.00016717722864420526,\n",
       " -0.00041483304171742452,\n",
       " 0.00036252312717603707,\n",
       " 0.001188679744721019,\n",
       " 0.00075496188826817967,\n",
       " -7.7689448682222162e-05,\n",
       " 0.00056918805274011608,\n",
       " -0.0010481856175514614,\n",
       " -0.0026724411266703524,\n",
       " -0.00016722497905748146,\n",
       " 0.0013400307431371966,\n",
       " -0.0026796810935972443,\n",
       " 1.8675053991390467e-05,\n",
       " 0.00031438947893845659,\n",
       " -0.00027747765153465775,\n",
       " -0.00039413124796264243,\n",
       " -0.0011310166677772626,\n",
       " -0.00062186803298436288,\n",
       " -0.0027481703450933787,\n",
       " -0.0010485659154857441,\n",
       " -0.0010554392274535751,\n",
       " -0.0020047919112452239,\n",
       " 0.0022484505220644047,\n",
       " 0.0012160024554020432,\n",
       " 0.000727506158578764,\n",
       " 0.00034197993300820462,\n",
       " -0.00068356583036399687,\n",
       " -0.0022459495941691832,\n",
       " 0.00012851843721192746,\n",
       " -0.00058747589256671895,\n",
       " 0.00023905931754064635,\n",
       " 0.0014295935594629133,\n",
       " 0.0022965330091449104,\n",
       " -0.00040139850083996398,\n",
       " 0.0015189892493421564,\n",
       " -0.0013924173994142031,\n",
       " 0.00032832028303958483,\n",
       " 0.0024412647960067729,\n",
       " -0.00029826300851268361,\n",
       " 3.2483071315522749e-05,\n",
       " 0.00036961131600360408,\n",
       " 0.0016223737259672272,\n",
       " -1.5860337666082081e-05,\n",
       " 0.002393149906860112,\n",
       " -0.0011790053594031152,\n",
       " -0.0003669210918271909,\n",
       " 0.0030470712574405395,\n",
       " 0.0014293616288841571,\n",
       " -9.8502091610677689e-05,\n",
       " 0.00024602983570692905,\n",
       " -0.00041512807105657801,\n",
       " -0.0020394364467044568,\n",
       " 0.0011129812229922487,\n",
       " 0.00016299584622471441,\n",
       " -1.585010543467269e-05,\n",
       " 0.0007964746195795458,\n",
       " 0.0013952883930123117,\n",
       " -4.3416684297775676e-05,\n",
       " 0.0012024229579128687,\n",
       " 0.0014983045093063946,\n",
       " 0.0014293275214460888,\n",
       " 0.00049352022770557391,\n",
       " 0.0011606441885847057,\n",
       " 9.4214976133225048e-05,\n",
       " -0.0009036533592022139,\n",
       " -0.00084180037297942878,\n",
       " 0.00014232474916416049,\n",
       " 0.0024825217215327239,\n",
       " -0.0022387062164984928,\n",
       " -0.0012892682641117009,\n",
       " 0.0013194773167379409,\n",
       " -0.001048397083667385,\n",
       " -0.0025140940295093617,\n",
       " 0.00096129938242695001,\n",
       " -0.00060750406441996418,\n",
       " 0.001814708790404948,\n",
       " 0.00191798582860013,\n",
       " -0.00033251360306241207,\n",
       " 0.0003349940664948009,\n",
       " -0.0001054402077108052,\n",
       " 0.001828614013927532,\n",
       " 0.0015256834972602051,\n",
       " -0.00080049569704018775,\n",
       " -0.0013579280527981075,\n",
       " -0.00236273450423366,\n",
       " 0.00029392132113434388,\n",
       " 0.0014501896201597475,\n",
       " 0.0010233808884846929,\n",
       " -0.00166759886242486,\n",
       " 0.0006447365017414608,\n",
       " 0.0021248059430073463,\n",
       " 0.00012865998307984294,\n",
       " 0.000582931265931938,\n",
       " 0.00010111557405148575,\n",
       " 5.9938801004952302e-05,\n",
       " 0.00094107509280488832,\n",
       " -0.0006077087090482769,\n",
       " -0.00091030497282268419,\n",
       " 0.00078940007372720056,\n",
       " 0.00023877281506100301,\n",
       " -0.000401490590922704,\n",
       " 0.00025239665221965524,\n",
       " 0.00045884499555208513,\n",
       " -0.00086930385308213454,\n",
       " -0.00078650349955057541,\n",
       " -0.0024798758370257884,\n",
       " 0.0005208787511965518,\n",
       " 0.00060332950348807035,\n",
       " -0.00058029049754071416,\n",
       " -0.00014679433943522169,\n",
       " 0.001367624607950757,\n",
       " -0.00052521191171539527,\n",
       " -0.00071106760509480338,\n",
       " -0.0021287929130299477,\n",
       " -0.0011031056037898307,\n",
       " -0.00055265740917341544,\n",
       " 8.0814542693805058e-05,\n",
       " 0.00069997539252561469,\n",
       " -0.00036688016290151171,\n",
       " -0.00076618029835816281,\n",
       " 0.00054883415485344755,\n",
       " 0.0027439872573019747,\n",
       " -0.0013989325832824834,\n",
       " 0.00045921847199877075,\n",
       " 0.00036248390362228489,\n",
       " 0.0021178371302129767,\n",
       " -6.4011039622682842e-05,\n",
       " -0.00069037092745570516,\n",
       " -0.0010552823332385247,\n",
       " 0.00014238273180885996,\n",
       " 0.00054836347220832415,\n",
       " 0.00092027950359545307,\n",
       " 0.00030034270954794329,\n",
       " -0.0011309876764549198,\n",
       " -0.0003738796723901372,\n",
       " -0.00019459373477988262,\n",
       " -0.0024317336619286978,\n",
       " -0.00033239593240112775,\n",
       " -0.00075905288597684362,\n",
       " -0.00089683802987908234,\n",
       " -0.00035304827037074826,\n",
       " 0.00043132957784607073,\n",
       " -2.9610372345528768e-05,\n",
       " -0.00013974366878952149,\n",
       " 0.00010800252899452467,\n",
       " -0.0019981812265504051,\n",
       " 0.0036319269408217197,\n",
       " 0.00090645272718038739,\n",
       " -0.0010760028860842541,\n",
       " 0.0010302081554111331,\n",
       " 0.00066544511698385378,\n",
       " 0.00011509583393778944,\n",
       " 0.00063785466291411963,\n",
       " -0.00059383247684803575,\n",
       " -0.00062128991190936456,\n",
       " -0.0013101610595195878,\n",
       " -0.00038753761698684386,\n",
       " -0.00033208896545866562,\n",
       " 0.00070671568548504038,\n",
       " 0.00046608666785089015,\n",
       " -0.0007246539240715888,\n",
       " 0.0009753853753712155,\n",
       " 0.00043832738196278309,\n",
       " -0.00022224217149430237,\n",
       " -0.00034614767245248756,\n",
       " -0.0010345174407233315,\n",
       " 0.00012193503846756604,\n",
       " 0.0023998663246128926,\n",
       " -0.0028239080903759151,\n",
       " 0.00027988819471903847,\n",
       " 3.2384159745171837e-05,\n",
       " 0.00050025710992118722,\n",
       " 0.00018376756022750462,\n",
       " 0.001464030039550035,\n",
       " 0.00059657386218152364,\n",
       " 1.8884814735400934e-05,\n",
       " 2.5234577529120727e-05,\n",
       " -0.0011512358412835988,\n",
       " -0.00040813026693986565,\n",
       " 4.6014818391434953e-05,\n",
       " 0.0010923544656011724,\n",
       " 0.0032534138677150076,\n",
       " 0.0012230087863782657,\n",
       " -0.0021498306650495486,\n",
       " -0.0010964488740536349,\n",
       " 0.00094071184858962598,\n",
       " -0.0023698175769455154,\n",
       " 0.0015054029303653571,\n",
       " ...]"
      ]
     },
     "execution_count": 31,
     "metadata": {},
     "output_type": "execute_result"
    }
   ],
   "source": [
    "p_diffs = []\n",
    "for _ in range(10000):\n",
    "    new_page_converted = np.random.binomial(1,Pnew,Nnew)\n",
    "    old_page_converted = np.random.binomial(1,Pold,Nold)\n",
    "    p_diff_sim = new_page_converted.mean() - old_page_converted.mean()\n",
    "    p_diffs.append(p_diff_sim)\n",
    "    \n",
    "p_diffs"
   ]
  },
  {
   "cell_type": "code",
   "execution_count": 32,
   "metadata": {},
   "outputs": [],
   "source": [
    "p_diffs = np.array(p_diffs)"
   ]
  },
  {
   "cell_type": "markdown",
   "metadata": {},
   "source": [
    "i. Plot a histogram of the **p_diffs**. "
   ]
  },
  {
   "cell_type": "code",
   "execution_count": 33,
   "metadata": {},
   "outputs": [
    {
     "data": {
      "text/plain": [
       "<matplotlib.lines.Line2D at 0x7fd4f9dfe898>"
      ]
     },
     "execution_count": 33,
     "metadata": {},
     "output_type": "execute_result"
    },
    {
     "data": {
      "image/png": "[encoded data removed]",
      "text/plain": [
       "<matplotlib.figure.Figure at 0x7fd4f9dfe8d0>"
      ]
     },
     "metadata": {},
     "output_type": "display_data"
    }
   ],
   "source": [
    "plt.hist(p_diffs); #sampling distribution\n",
    "plt.axvline(x=Pdiff,color='red')"
   ]
  },
  {
   "cell_type": "markdown",
   "metadata": {},
   "source": [
    "j. What proportion of the **p_diffs** are greater than the actual difference observed in **ab_data.csv**?"
   ]
  },
  {
   "cell_type": "code",
   "execution_count": 34,
   "metadata": {},
   "outputs": [
    {
     "data": {
      "text/plain": [
       "0.90959999999999996"
      ]
     },
     "execution_count": 34,
     "metadata": {},
     "output_type": "execute_result"
    }
   ],
   "source": [
    "(p_diffs > Actual_Diff).mean()"
   ]
  },
  {
   "cell_type": "markdown",
   "metadata": {},
   "source": [
    "k. In words, explain what we just computed in part **j.**.  What is this value called in scientific studies?  What does this value mean in terms of whether or not there is a difference between the new and old pages?"
   ]
  },
  {
   "cell_type": "markdown",
   "metadata": {},
   "source": [
    "In the above one-tailed test,P-value tell us it is \"likely\" that we would observe such an stasitic in the direction of H0 if the null hypothesis is true.Therefore our initial assumption that the null hypothesis is true and must be correct\n",
    "\n",
    "That is, since the P-value is more than α = 0.05, we fail to reject the null hypothesis H0: Pnew <= Pold in favor of the alternative hypothesis H1: Pnew > Pold"
   ]
  },
  {
   "cell_type": "markdown",
   "metadata": {},
   "source": [
    "l. We could also use a built-in to achieve similar results.  Though using the built-in might be easier to code, the above portions are a walkthrough of the ideas that are critical to correctly thinking about statistical significance. Fill in the below to calculate the number of conversions for each page, as well as the number of individuals who received each page. Let `n_old` and `n_new` refer the the number of rows associated with the old page and new pages, respectively."
   ]
  },
  {
   "cell_type": "code",
   "execution_count": 89,
   "metadata": {},
   "outputs": [
    {
     "data": {
      "text/html": [
       "<div>\n",
       "<style>\n",
       "    .dataframe thead tr:only-child th {\n",
       "        text-align: right;\n",
       "    }\n",
       "\n",
       "    .dataframe thead th {\n",
       "        text-align: left;\n",
       "    }\n",
       "\n",
       "    .dataframe tbody tr th {\n",
       "        vertical-align: top;\n",
       "    }\n",
       "</style>\n",
       "<table border=\"1\" class=\"dataframe\">\n",
       "  <thead>\n",
       "    <tr style=\"text-align: right;\">\n",
       "      <th></th>\n",
       "      <th>user_id</th>\n",
       "      <th>timestamp</th>\n",
       "      <th>group</th>\n",
       "      <th>landing_page</th>\n",
       "      <th>converted</th>\n",
       "    </tr>\n",
       "  </thead>\n",
       "  <tbody>\n",
       "    <tr>\n",
       "      <th>0</th>\n",
       "      <td>851104</td>\n",
       "      <td>2017-01-21 22:11:48.556739</td>\n",
       "      <td>control</td>\n",
       "      <td>old_page</td>\n",
       "      <td>0</td>\n",
       "    </tr>\n",
       "    <tr>\n",
       "      <th>1</th>\n",
       "      <td>804228</td>\n",
       "      <td>2017-01-12 08:01:45.159739</td>\n",
       "      <td>control</td>\n",
       "      <td>old_page</td>\n",
       "      <td>0</td>\n",
       "    </tr>\n",
       "    <tr>\n",
       "      <th>2</th>\n",
       "      <td>661590</td>\n",
       "      <td>2017-01-11 16:55:06.154213</td>\n",
       "      <td>treatment</td>\n",
       "      <td>new_page</td>\n",
       "      <td>0</td>\n",
       "    </tr>\n",
       "    <tr>\n",
       "      <th>3</th>\n",
       "      <td>853541</td>\n",
       "      <td>2017-01-08 18:28:03.143765</td>\n",
       "      <td>treatment</td>\n",
       "      <td>new_page</td>\n",
       "      <td>0</td>\n",
       "    </tr>\n",
       "    <tr>\n",
       "      <th>4</th>\n",
       "      <td>864975</td>\n",
       "      <td>2017-01-21 01:52:26.210827</td>\n",
       "      <td>control</td>\n",
       "      <td>old_page</td>\n",
       "      <td>1</td>\n",
       "    </tr>\n",
       "  </tbody>\n",
       "</table>\n",
       "</div>"
      ],
      "text/plain": [
       "   user_id                   timestamp      group landing_page  converted\n",
       "0   851104  2017-01-21 22:11:48.556739    control     old_page          0\n",
       "1   804228  2017-01-12 08:01:45.159739    control     old_page          0\n",
       "2   661590  2017-01-11 16:55:06.154213  treatment     new_page          0\n",
       "3   853541  2017-01-08 18:28:03.143765  treatment     new_page          0\n",
       "4   864975  2017-01-21 01:52:26.210827    control     old_page          1"
      ]
     },
     "execution_count": 89,
     "metadata": {},
     "output_type": "execute_result"
    }
   ],
   "source": [
    "df2.head()"
   ]
  },
  {
   "cell_type": "code",
   "execution_count": 90,
   "metadata": {},
   "outputs": [],
   "source": [
    "import statsmodels.api as sm\n",
    "\n",
    "convert_old = df2[(df2['group'] == 'control') & (df2['converted'] == 1)]['user_id'].count()\n",
    "convert_new = df2[(df2['group'] == 'treatment') & (df2['converted'] == 1)]['user_id'].count()\n"
   ]
  },
  {
   "cell_type": "code",
   "execution_count": 91,
   "metadata": {},
   "outputs": [],
   "source": [
    "n_old = df2.query('landing_page == \"old_page\"').user_id.count()\n",
    "n_new = df2.query('landing_page == \"new_page\"').user_id.count()"
   ]
  },
  {
   "cell_type": "markdown",
   "metadata": {},
   "source": [
    "m. Now use `stats.proportions_ztest` to compute your test statistic and p-value. "
   ]
  },
  {
   "cell_type": "code",
   "execution_count": 92,
   "metadata": {},
   "outputs": [
    {
     "data": {
      "text/plain": [
       "1.3109241984234394"
      ]
     },
     "execution_count": 92,
     "metadata": {},
     "output_type": "execute_result"
    }
   ],
   "source": [
    "z_Score,p_score = sm.stats.proportions_ztest([convert_old,convert_new],[n_old,n_new],alternative='smaller')\n",
    "\n",
    "z_Score"
   ]
  },
  {
   "cell_type": "code",
   "execution_count": 93,
   "metadata": {},
   "outputs": [
    {
     "data": {
      "text/plain": [
       "0.90505831275902449"
      ]
     },
     "execution_count": 93,
     "metadata": {},
     "output_type": "execute_result"
    }
   ],
   "source": [
    "p_score"
   ]
  },
  {
   "cell_type": "code",
   "execution_count": 94,
   "metadata": {},
   "outputs": [
    {
     "data": {
      "text/plain": [
       "1.6448536269514722"
      ]
     },
     "execution_count": 94,
     "metadata": {},
     "output_type": "execute_result"
    }
   ],
   "source": [
    "from scipy.stats import norm\n",
    "\n",
    "norm.ppf(1-(0.05))  # z score for 95% level of confidence"
   ]
  },
  {
   "cell_type": "markdown",
   "metadata": {},
   "source": [
    "n. What do the z-score and p-value you computed in the previous question mean for the conversion rates of the old and new pages?  Do they agree with the findings in parts **j.** and **k.**?"
   ]
  },
  {
   "cell_type": "markdown",
   "metadata": {},
   "source": [
    "         Since the z-score of 1.31 doesnt exceed the critical value of 1.64, we fail to reject Null Hypothesis ie) there is no significant diifference between old and new page conversions."
   ]
  },
  {
   "cell_type": "markdown",
   "metadata": {},
   "source": [
    "<a id='regression'></a>\n",
    "### Part III - A regression approach\n",
    "\n",
    "`1.` In this final part, we will see that the result we acheived in the previous A/B test can also be acheived by performing regression.<br><br>\n",
    "\n",
    "a. Since each row is either a conversion or no conversion, what type of regression should you be performing in this case?"
   ]
  },
  {
   "cell_type": "markdown",
   "metadata": {},
   "source": [
    "Logistic Regression"
   ]
  },
  {
   "cell_type": "markdown",
   "metadata": {},
   "source": [
    "b. The goal is to use **statsmodels** to fit the regression model we specified in part **a.** to see if there is a significant difference in conversion based on which page a customer receives.  However, we first need to create a colun for the intercept, and create a dummy variable column for which page each user received.  Add an **intercept** column, as well as an **ab_page** column, which is 1 when an individual receives the **treatment** and 0 if **control**."
   ]
  },
  {
   "cell_type": "code",
   "execution_count": 95,
   "metadata": {},
   "outputs": [
    {
     "data": {
      "text/html": [
       "<div>\n",
       "<style>\n",
       "    .dataframe thead tr:only-child th {\n",
       "        text-align: right;\n",
       "    }\n",
       "\n",
       "    .dataframe thead th {\n",
       "        text-align: left;\n",
       "    }\n",
       "\n",
       "    .dataframe tbody tr th {\n",
       "        vertical-align: top;\n",
       "    }\n",
       "</style>\n",
       "<table border=\"1\" class=\"dataframe\">\n",
       "  <thead>\n",
       "    <tr style=\"text-align: right;\">\n",
       "      <th></th>\n",
       "      <th>user_id</th>\n",
       "      <th>timestamp</th>\n",
       "      <th>group</th>\n",
       "      <th>landing_page</th>\n",
       "      <th>converted</th>\n",
       "    </tr>\n",
       "  </thead>\n",
       "  <tbody>\n",
       "    <tr>\n",
       "      <th>0</th>\n",
       "      <td>851104</td>\n",
       "      <td>2017-01-21 22:11:48.556739</td>\n",
       "      <td>control</td>\n",
       "      <td>old_page</td>\n",
       "      <td>0</td>\n",
       "    </tr>\n",
       "    <tr>\n",
       "      <th>1</th>\n",
       "      <td>804228</td>\n",
       "      <td>2017-01-12 08:01:45.159739</td>\n",
       "      <td>control</td>\n",
       "      <td>old_page</td>\n",
       "      <td>0</td>\n",
       "    </tr>\n",
       "  </tbody>\n",
       "</table>\n",
       "</div>"
      ],
      "text/plain": [
       "   user_id                   timestamp    group landing_page  converted\n",
       "0   851104  2017-01-21 22:11:48.556739  control     old_page          0\n",
       "1   804228  2017-01-12 08:01:45.159739  control     old_page          0"
      ]
     },
     "execution_count": 95,
     "metadata": {},
     "output_type": "execute_result"
    }
   ],
   "source": [
    "df2.head(2)"
   ]
  },
  {
   "cell_type": "code",
   "execution_count": 96,
   "metadata": {},
   "outputs": [
    {
     "data": {
      "text/html": [
       "<div>\n",
       "<style>\n",
       "    .dataframe thead tr:only-child th {\n",
       "        text-align: right;\n",
       "    }\n",
       "\n",
       "    .dataframe thead th {\n",
       "        text-align: left;\n",
       "    }\n",
       "\n",
       "    .dataframe tbody tr th {\n",
       "        vertical-align: top;\n",
       "    }\n",
       "</style>\n",
       "<table border=\"1\" class=\"dataframe\">\n",
       "  <thead>\n",
       "    <tr style=\"text-align: right;\">\n",
       "      <th></th>\n",
       "      <th>user_id</th>\n",
       "      <th>timestamp</th>\n",
       "      <th>group</th>\n",
       "      <th>landing_page</th>\n",
       "      <th>converted</th>\n",
       "      <th>intercept</th>\n",
       "      <th>ab_page</th>\n",
       "    </tr>\n",
       "  </thead>\n",
       "  <tbody>\n",
       "    <tr>\n",
       "      <th>0</th>\n",
       "      <td>851104</td>\n",
       "      <td>2017-01-21 22:11:48.556739</td>\n",
       "      <td>control</td>\n",
       "      <td>old_page</td>\n",
       "      <td>0</td>\n",
       "      <td>1</td>\n",
       "      <td>0</td>\n",
       "    </tr>\n",
       "    <tr>\n",
       "      <th>1</th>\n",
       "      <td>804228</td>\n",
       "      <td>2017-01-12 08:01:45.159739</td>\n",
       "      <td>control</td>\n",
       "      <td>old_page</td>\n",
       "      <td>0</td>\n",
       "      <td>1</td>\n",
       "      <td>0</td>\n",
       "    </tr>\n",
       "    <tr>\n",
       "      <th>2</th>\n",
       "      <td>661590</td>\n",
       "      <td>2017-01-11 16:55:06.154213</td>\n",
       "      <td>treatment</td>\n",
       "      <td>new_page</td>\n",
       "      <td>0</td>\n",
       "      <td>1</td>\n",
       "      <td>1</td>\n",
       "    </tr>\n",
       "    <tr>\n",
       "      <th>3</th>\n",
       "      <td>853541</td>\n",
       "      <td>2017-01-08 18:28:03.143765</td>\n",
       "      <td>treatment</td>\n",
       "      <td>new_page</td>\n",
       "      <td>0</td>\n",
       "      <td>1</td>\n",
       "      <td>1</td>\n",
       "    </tr>\n",
       "    <tr>\n",
       "      <th>4</th>\n",
       "      <td>864975</td>\n",
       "      <td>2017-01-21 01:52:26.210827</td>\n",
       "      <td>control</td>\n",
       "      <td>old_page</td>\n",
       "      <td>1</td>\n",
       "      <td>1</td>\n",
       "      <td>0</td>\n",
       "    </tr>\n",
       "  </tbody>\n",
       "</table>\n",
       "</div>"
      ],
      "text/plain": [
       "   user_id                   timestamp      group landing_page  converted  \\\n",
       "0   851104  2017-01-21 22:11:48.556739    control     old_page          0   \n",
       "1   804228  2017-01-12 08:01:45.159739    control     old_page          0   \n",
       "2   661590  2017-01-11 16:55:06.154213  treatment     new_page          0   \n",
       "3   853541  2017-01-08 18:28:03.143765  treatment     new_page          0   \n",
       "4   864975  2017-01-21 01:52:26.210827    control     old_page          1   \n",
       "\n",
       "   intercept  ab_page  \n",
       "0          1        0  \n",
       "1          1        0  \n",
       "2          1        1  \n",
       "3          1        1  \n",
       "4          1        0  "
      ]
     },
     "execution_count": 96,
     "metadata": {},
     "output_type": "execute_result"
    }
   ],
   "source": [
    "df2['intercept'] = 1\n",
    "\n",
    "df2[['ab_page','old_page']] = pd.get_dummies(df['landing_page'])\n",
    "\n",
    "df2 = df2.drop('old_page',axis=1)\n",
    "\n",
    "df2.head()"
   ]
  },
  {
   "cell_type": "markdown",
   "metadata": {},
   "source": [
    "c. Use **statsmodels** to import our regression model.  Instantiate the model, and fit the model using the two columns we created in part **b.** to predict whether or not an individual converts."
   ]
  },
  {
   "cell_type": "code",
   "execution_count": 97,
   "metadata": {},
   "outputs": [],
   "source": [
    "logit_mod = sm.Logit(df2['ab_page'],df2[['intercept','converted']])"
   ]
  },
  {
   "cell_type": "markdown",
   "metadata": {},
   "source": [
    "d. Provide the summary of our model below, and use it as necessary to answer the following questions."
   ]
  },
  {
   "cell_type": "code",
   "execution_count": 98,
   "metadata": {},
   "outputs": [
    {
     "name": "stdout",
     "output_type": "stream",
     "text": [
      "Optimization terminated successfully.\n",
      "         Current function value: 0.752584\n",
      "         Iterations 3\n"
     ]
    },
    {
     "data": {
      "text/html": [
       "<table class=\"simpletable\">\n",
       "<caption>Logit Regression Results</caption>\n",
       "<tr>\n",
       "  <th>Dep. Variable:</th>      <td>ab_page</td>     <th>  No. Observations:  </th>   <td>290584</td>   \n",
       "</tr>\n",
       "<tr>\n",
       "  <th>Model:</th>               <td>Logit</td>      <th>  Df Residuals:      </th>   <td>290582</td>   \n",
       "</tr>\n",
       "<tr>\n",
       "  <th>Method:</th>               <td>MLE</td>       <th>  Df Model:          </th>   <td>     1</td>   \n",
       "</tr>\n",
       "<tr>\n",
       "  <th>Date:</th>          <td>Fri, 13 Apr 2018</td> <th>  Pseudo R-squ.:     </th>   <td>-0.1108</td>  \n",
       "</tr>\n",
       "<tr>\n",
       "  <th>Time:</th>              <td>05:31:20</td>     <th>  Log-Likelihood:    </th> <td>-2.1869e+05</td>\n",
       "</tr>\n",
       "<tr>\n",
       "  <th>converged:</th>           <td>True</td>       <th>  LL-Null:           </th> <td>-1.9688e+05</td>\n",
       "</tr>\n",
       "<tr>\n",
       "  <th> </th>                      <td> </td>        <th>  LLR p-value:       </th>   <td> 1.000</td>   \n",
       "</tr>\n",
       "</table>\n",
       "<table class=\"simpletable\">\n",
       "<tr>\n",
       "      <td></td>         <th>coef</th>     <th>std err</th>      <th>z</th>      <th>P>|z|</th>  <th>[0.025</th>    <th>0.975]</th>  \n",
       "</tr>\n",
       "<tr>\n",
       "  <th>intercept</th> <td>    0.0020</td> <td>    0.004</td> <td>    0.516</td> <td> 0.606</td> <td>   -0.006</td> <td>    0.010</td>\n",
       "</tr>\n",
       "<tr>\n",
       "  <th>converted</th> <td>   -0.0150</td> <td>    0.011</td> <td>   -1.311</td> <td> 0.190</td> <td>   -0.037</td> <td>    0.007</td>\n",
       "</tr>\n",
       "</table>"
      ],
      "text/plain": [
       "<class 'statsmodels.iolib.summary.Summary'>\n",
       "\"\"\"\n",
       "                           Logit Regression Results                           \n",
       "==============================================================================\n",
       "Dep. Variable:                ab_page   No. Observations:               290584\n",
       "Model:                          Logit   Df Residuals:                   290582\n",
       "Method:                           MLE   Df Model:                            1\n",
       "Date:                Fri, 13 Apr 2018   Pseudo R-squ.:                 -0.1108\n",
       "Time:                        05:31:20   Log-Likelihood:            -2.1869e+05\n",
       "converged:                       True   LL-Null:                   -1.9688e+05\n",
       "                                        LLR p-value:                     1.000\n",
       "==============================================================================\n",
       "                 coef    std err          z      P>|z|      [0.025      0.975]\n",
       "------------------------------------------------------------------------------\n",
       "intercept      0.0020      0.004      0.516      0.606      -0.006       0.010\n",
       "converted     -0.0150      0.011     -1.311      0.190      -0.037       0.007\n",
       "==============================================================================\n",
       "\"\"\""
      ]
     },
     "execution_count": 98,
     "metadata": {},
     "output_type": "execute_result"
    }
   ],
   "source": [
    "results = logit_mod.fit()\n",
    "results.summary()"
   ]
  },
  {
   "cell_type": "code",
   "execution_count": 99,
   "metadata": {},
   "outputs": [
    {
     "data": {
      "text/plain": [
       "1.0151130646157189"
      ]
     },
     "execution_count": 99,
     "metadata": {},
     "output_type": "execute_result"
    }
   ],
   "source": [
    "1/np.exp(-0.0150)"
   ]
  },
  {
   "cell_type": "markdown",
   "metadata": {},
   "source": [
    "e. What is the p-value associated with **ab_page**? Why does it differ from the value we found in the **Part II**?<br><br>  **Hint**: What are the null and alternative hypotheses associated with your regression model, and how do they compare to the null and alternative hypotheses in the **Part II**?"
   ]
  },
  {
   "cell_type": "markdown",
   "metadata": {},
   "source": [
    "P-value of ab_page is 0.190.\n",
    "  The reason why p-score differs from previous section is because the p-value we calculate for the bootstrap is ~.9 because we are asking the question, how many differences under the null are greater than our observed diff, but if we reverse the question it becomes ~.1, e.g., if we look at the proportion of null diffs less than the obs diff."
   ]
  },
  {
   "cell_type": "markdown",
   "metadata": {},
   "source": [
    "f. Now, we are considering other things that might influence whether or not an individual converts.  Discuss why it is a good idea to consider other factors to add into our regression model.  Are there any disadvantages to adding additional terms into your regression model?"
   ]
  },
  {
   "cell_type": "markdown",
   "metadata": {},
   "source": [
    "I will say we should use the right amount of predictors to get most presice estimates.Becoz taking very few predictors may result in produce biased estimates also taking more predictors may lead to less presice estimates."
   ]
  },
  {
   "cell_type": "markdown",
   "metadata": {},
   "source": [
    "g. Now along with testing if the conversion rate changes for different pages, also add an effect based on which country a user lives. we will need to read in the **countries.csv** dataset and merge together your datasets on the approporiate rows.\n",
    "\n",
    "Does it appear that country had an impact on conversion?  we need to create dummy variables for these country columns -  Provide the statistical output as well as a written response to answer this question."
   ]
  },
  {
   "cell_type": "code",
   "execution_count": 100,
   "metadata": {},
   "outputs": [
    {
     "data": {
      "text/html": [
       "<div>\n",
       "<style>\n",
       "    .dataframe thead tr:only-child th {\n",
       "        text-align: right;\n",
       "    }\n",
       "\n",
       "    .dataframe thead th {\n",
       "        text-align: left;\n",
       "    }\n",
       "\n",
       "    .dataframe tbody tr th {\n",
       "        vertical-align: top;\n",
       "    }\n",
       "</style>\n",
       "<table border=\"1\" class=\"dataframe\">\n",
       "  <thead>\n",
       "    <tr style=\"text-align: right;\">\n",
       "      <th></th>\n",
       "      <th>user_id</th>\n",
       "      <th>country</th>\n",
       "    </tr>\n",
       "  </thead>\n",
       "  <tbody>\n",
       "    <tr>\n",
       "      <th>0</th>\n",
       "      <td>834778</td>\n",
       "      <td>UK</td>\n",
       "    </tr>\n",
       "    <tr>\n",
       "      <th>1</th>\n",
       "      <td>928468</td>\n",
       "      <td>US</td>\n",
       "    </tr>\n",
       "    <tr>\n",
       "      <th>2</th>\n",
       "      <td>822059</td>\n",
       "      <td>UK</td>\n",
       "    </tr>\n",
       "    <tr>\n",
       "      <th>3</th>\n",
       "      <td>711597</td>\n",
       "      <td>UK</td>\n",
       "    </tr>\n",
       "    <tr>\n",
       "      <th>4</th>\n",
       "      <td>710616</td>\n",
       "      <td>UK</td>\n",
       "    </tr>\n",
       "  </tbody>\n",
       "</table>\n",
       "</div>"
      ],
      "text/plain": [
       "   user_id country\n",
       "0   834778      UK\n",
       "1   928468      US\n",
       "2   822059      UK\n",
       "3   711597      UK\n",
       "4   710616      UK"
      ]
     },
     "execution_count": 100,
     "metadata": {},
     "output_type": "execute_result"
    }
   ],
   "source": [
    "#caller.join(other, lsuffix='_caller', rsuffix='_other')\n",
    "\n",
    "df3 = pd.read_csv('countries.csv')\n",
    "#df3.set_index('user_id', inplace=True)\n",
    "df3.head()"
   ]
  },
  {
   "cell_type": "code",
   "execution_count": 101,
   "metadata": {},
   "outputs": [],
   "source": [
    "df2.head()\n",
    "df2 = df2.set_index('user_id').join(df3.set_index('user_id'))"
   ]
  },
  {
   "cell_type": "code",
   "execution_count": 102,
   "metadata": {},
   "outputs": [
    {
     "data": {
      "text/html": [
       "<div>\n",
       "<style>\n",
       "    .dataframe thead tr:only-child th {\n",
       "        text-align: right;\n",
       "    }\n",
       "\n",
       "    .dataframe thead th {\n",
       "        text-align: left;\n",
       "    }\n",
       "\n",
       "    .dataframe tbody tr th {\n",
       "        vertical-align: top;\n",
       "    }\n",
       "</style>\n",
       "<table border=\"1\" class=\"dataframe\">\n",
       "  <thead>\n",
       "    <tr style=\"text-align: right;\">\n",
       "      <th></th>\n",
       "      <th>timestamp</th>\n",
       "      <th>group</th>\n",
       "      <th>landing_page</th>\n",
       "      <th>converted</th>\n",
       "      <th>intercept</th>\n",
       "      <th>ab_page</th>\n",
       "      <th>country</th>\n",
       "    </tr>\n",
       "    <tr>\n",
       "      <th>user_id</th>\n",
       "      <th></th>\n",
       "      <th></th>\n",
       "      <th></th>\n",
       "      <th></th>\n",
       "      <th></th>\n",
       "      <th></th>\n",
       "      <th></th>\n",
       "    </tr>\n",
       "  </thead>\n",
       "  <tbody>\n",
       "    <tr>\n",
       "      <th>630000</th>\n",
       "      <td>2017-01-19 06:26:06.548941</td>\n",
       "      <td>treatment</td>\n",
       "      <td>new_page</td>\n",
       "      <td>0</td>\n",
       "      <td>1</td>\n",
       "      <td>1</td>\n",
       "      <td>US</td>\n",
       "    </tr>\n",
       "    <tr>\n",
       "      <th>630001</th>\n",
       "      <td>2017-01-16 03:16:42.560309</td>\n",
       "      <td>treatment</td>\n",
       "      <td>new_page</td>\n",
       "      <td>1</td>\n",
       "      <td>1</td>\n",
       "      <td>1</td>\n",
       "      <td>US</td>\n",
       "    </tr>\n",
       "  </tbody>\n",
       "</table>\n",
       "</div>"
      ],
      "text/plain": [
       "                          timestamp      group landing_page  converted  \\\n",
       "user_id                                                                  \n",
       "630000   2017-01-19 06:26:06.548941  treatment     new_page          0   \n",
       "630001   2017-01-16 03:16:42.560309  treatment     new_page          1   \n",
       "\n",
       "         intercept  ab_page country  \n",
       "user_id                              \n",
       "630000           1        1      US  \n",
       "630001           1        1      US  "
      ]
     },
     "execution_count": 102,
     "metadata": {},
     "output_type": "execute_result"
    }
   ],
   "source": [
    "df2.head(2)"
   ]
  },
  {
   "cell_type": "code",
   "execution_count": 103,
   "metadata": {},
   "outputs": [
    {
     "data": {
      "text/plain": [
       "array(['US', 'UK', 'CA'], dtype=object)"
      ]
     },
     "execution_count": 103,
     "metadata": {},
     "output_type": "execute_result"
    }
   ],
   "source": [
    "df2['country'].unique()"
   ]
  },
  {
   "cell_type": "code",
   "execution_count": 104,
   "metadata": {},
   "outputs": [
    {
     "data": {
      "text/html": [
       "<div>\n",
       "<style>\n",
       "    .dataframe thead tr:only-child th {\n",
       "        text-align: right;\n",
       "    }\n",
       "\n",
       "    .dataframe thead th {\n",
       "        text-align: left;\n",
       "    }\n",
       "\n",
       "    .dataframe tbody tr th {\n",
       "        vertical-align: top;\n",
       "    }\n",
       "</style>\n",
       "<table border=\"1\" class=\"dataframe\">\n",
       "  <thead>\n",
       "    <tr style=\"text-align: right;\">\n",
       "      <th></th>\n",
       "      <th>timestamp</th>\n",
       "      <th>group</th>\n",
       "      <th>landing_page</th>\n",
       "      <th>converted</th>\n",
       "      <th>intercept</th>\n",
       "      <th>ab_page</th>\n",
       "      <th>country</th>\n",
       "      <th>CA</th>\n",
       "      <th>UK</th>\n",
       "      <th>US</th>\n",
       "    </tr>\n",
       "    <tr>\n",
       "      <th>user_id</th>\n",
       "      <th></th>\n",
       "      <th></th>\n",
       "      <th></th>\n",
       "      <th></th>\n",
       "      <th></th>\n",
       "      <th></th>\n",
       "      <th></th>\n",
       "      <th></th>\n",
       "      <th></th>\n",
       "      <th></th>\n",
       "    </tr>\n",
       "  </thead>\n",
       "  <tbody>\n",
       "    <tr>\n",
       "      <th>630000</th>\n",
       "      <td>2017-01-19 06:26:06.548941</td>\n",
       "      <td>treatment</td>\n",
       "      <td>new_page</td>\n",
       "      <td>0</td>\n",
       "      <td>1</td>\n",
       "      <td>1</td>\n",
       "      <td>US</td>\n",
       "      <td>0</td>\n",
       "      <td>0</td>\n",
       "      <td>1</td>\n",
       "    </tr>\n",
       "    <tr>\n",
       "      <th>630001</th>\n",
       "      <td>2017-01-16 03:16:42.560309</td>\n",
       "      <td>treatment</td>\n",
       "      <td>new_page</td>\n",
       "      <td>1</td>\n",
       "      <td>1</td>\n",
       "      <td>1</td>\n",
       "      <td>US</td>\n",
       "      <td>0</td>\n",
       "      <td>0</td>\n",
       "      <td>1</td>\n",
       "    </tr>\n",
       "    <tr>\n",
       "      <th>630002</th>\n",
       "      <td>2017-01-19 19:20:56.438330</td>\n",
       "      <td>control</td>\n",
       "      <td>old_page</td>\n",
       "      <td>0</td>\n",
       "      <td>1</td>\n",
       "      <td>0</td>\n",
       "      <td>US</td>\n",
       "      <td>0</td>\n",
       "      <td>0</td>\n",
       "      <td>1</td>\n",
       "    </tr>\n",
       "    <tr>\n",
       "      <th>630003</th>\n",
       "      <td>2017-01-12 10:09:31.510471</td>\n",
       "      <td>treatment</td>\n",
       "      <td>new_page</td>\n",
       "      <td>0</td>\n",
       "      <td>1</td>\n",
       "      <td>1</td>\n",
       "      <td>US</td>\n",
       "      <td>0</td>\n",
       "      <td>0</td>\n",
       "      <td>1</td>\n",
       "    </tr>\n",
       "    <tr>\n",
       "      <th>630004</th>\n",
       "      <td>2017-01-18 20:23:58.824994</td>\n",
       "      <td>treatment</td>\n",
       "      <td>new_page</td>\n",
       "      <td>0</td>\n",
       "      <td>1</td>\n",
       "      <td>1</td>\n",
       "      <td>US</td>\n",
       "      <td>0</td>\n",
       "      <td>0</td>\n",
       "      <td>1</td>\n",
       "    </tr>\n",
       "  </tbody>\n",
       "</table>\n",
       "</div>"
      ],
      "text/plain": [
       "                          timestamp      group landing_page  converted  \\\n",
       "user_id                                                                  \n",
       "630000   2017-01-19 06:26:06.548941  treatment     new_page          0   \n",
       "630001   2017-01-16 03:16:42.560309  treatment     new_page          1   \n",
       "630002   2017-01-19 19:20:56.438330    control     old_page          0   \n",
       "630003   2017-01-12 10:09:31.510471  treatment     new_page          0   \n",
       "630004   2017-01-18 20:23:58.824994  treatment     new_page          0   \n",
       "\n",
       "         intercept  ab_page country  CA  UK  US  \n",
       "user_id                                          \n",
       "630000           1        1      US   0   0   1  \n",
       "630001           1        1      US   0   0   1  \n",
       "630002           1        0      US   0   0   1  \n",
       "630003           1        1      US   0   0   1  \n",
       "630004           1        1      US   0   0   1  "
      ]
     },
     "execution_count": 104,
     "metadata": {},
     "output_type": "execute_result"
    }
   ],
   "source": [
    "df2[['CA','UK','US']] = pd.get_dummies(df2['country'])\n",
    "\n",
    "df2.head()"
   ]
  },
  {
   "cell_type": "code",
   "execution_count": 105,
   "metadata": {},
   "outputs": [
    {
     "name": "stdout",
     "output_type": "stream",
     "text": [
      "Optimization terminated successfully.\n",
      "         Current function value: 0.825077\n",
      "         Iterations 3\n"
     ]
    },
    {
     "data": {
      "text/html": [
       "<table class=\"simpletable\">\n",
       "<caption>Logit Regression Results</caption>\n",
       "<tr>\n",
       "  <th>Dep. Variable:</th>      <td>ab_page</td>     <th>  No. Observations:  </th>   <td>290584</td>   \n",
       "</tr>\n",
       "<tr>\n",
       "  <th>Model:</th>               <td>Logit</td>      <th>  Df Residuals:      </th>   <td>290580</td>   \n",
       "</tr>\n",
       "<tr>\n",
       "  <th>Method:</th>               <td>MLE</td>       <th>  Df Model:          </th>   <td>     3</td>   \n",
       "</tr>\n",
       "<tr>\n",
       "  <th>Date:</th>          <td>Fri, 13 Apr 2018</td> <th>  Pseudo R-squ.:     </th>   <td>-0.2178</td>  \n",
       "</tr>\n",
       "<tr>\n",
       "  <th>Time:</th>              <td>05:31:33</td>     <th>  Log-Likelihood:    </th> <td>-2.3975e+05</td>\n",
       "</tr>\n",
       "<tr>\n",
       "  <th>converged:</th>           <td>True</td>       <th>  LL-Null:           </th> <td>-1.9688e+05</td>\n",
       "</tr>\n",
       "<tr>\n",
       "  <th> </th>                      <td> </td>        <th>  LLR p-value:       </th>   <td> 1.000</td>   \n",
       "</tr>\n",
       "</table>\n",
       "<table class=\"simpletable\">\n",
       "<tr>\n",
       "      <td></td>         <th>coef</th>     <th>std err</th>      <th>z</th>      <th>P>|z|</th>  <th>[0.025</th>    <th>0.975]</th>  \n",
       "</tr>\n",
       "<tr>\n",
       "  <th>intercept</th> <td>    0.0159</td> <td>    0.017</td> <td>    0.956</td> <td> 0.339</td> <td>   -0.017</td> <td>    0.049</td>\n",
       "</tr>\n",
       "<tr>\n",
       "  <th>converted</th> <td>   -0.0149</td> <td>    0.011</td> <td>   -1.307</td> <td> 0.191</td> <td>   -0.037</td> <td>    0.007</td>\n",
       "</tr>\n",
       "<tr>\n",
       "  <th>UK</th>        <td>   -0.0211</td> <td>    0.018</td> <td>   -1.162</td> <td> 0.245</td> <td>   -0.057</td> <td>    0.015</td>\n",
       "</tr>\n",
       "<tr>\n",
       "  <th>US</th>        <td>   -0.0123</td> <td>    0.017</td> <td>   -0.716</td> <td> 0.474</td> <td>   -0.046</td> <td>    0.021</td>\n",
       "</tr>\n",
       "</table>"
      ],
      "text/plain": [
       "<class 'statsmodels.iolib.summary.Summary'>\n",
       "\"\"\"\n",
       "                           Logit Regression Results                           \n",
       "==============================================================================\n",
       "Dep. Variable:                ab_page   No. Observations:               290584\n",
       "Model:                          Logit   Df Residuals:                   290580\n",
       "Method:                           MLE   Df Model:                            3\n",
       "Date:                Fri, 13 Apr 2018   Pseudo R-squ.:                 -0.2178\n",
       "Time:                        05:31:33   Log-Likelihood:            -2.3975e+05\n",
       "converged:                       True   LL-Null:                   -1.9688e+05\n",
       "                                        LLR p-value:                     1.000\n",
       "==============================================================================\n",
       "                 coef    std err          z      P>|z|      [0.025      0.975]\n",
       "------------------------------------------------------------------------------\n",
       "intercept      0.0159      0.017      0.956      0.339      -0.017       0.049\n",
       "converted     -0.0149      0.011     -1.307      0.191      -0.037       0.007\n",
       "UK            -0.0211      0.018     -1.162      0.245      -0.057       0.015\n",
       "US            -0.0123      0.017     -0.716      0.474      -0.046       0.021\n",
       "==============================================================================\n",
       "\"\"\""
      ]
     },
     "execution_count": 105,
     "metadata": {},
     "output_type": "execute_result"
    }
   ],
   "source": [
    "con_logit = sm.Logit(df2['ab_page'],df2[['intercept','converted','UK','US']])\n",
    "\n",
    "result = con_logit.fit()\n",
    "result.summary()"
   ]
  },
  {
   "cell_type": "code",
   "execution_count": 106,
   "metadata": {},
   "outputs": [
    {
     "data": {
      "text/plain": [
       "1.0213241789489729"
      ]
     },
     "execution_count": 106,
     "metadata": {},
     "output_type": "execute_result"
    }
   ],
   "source": [
    "#UK\n",
    "1/np.exp(-0.0211)\n",
    "\n",
    "#For a unit decrease in UK,ab_page is 1.02 times likely holding all else is constant"
   ]
  },
  {
   "cell_type": "code",
   "execution_count": 107,
   "metadata": {},
   "outputs": [
    {
     "data": {
      "text/plain": [
       "1.0123759561005452"
      ]
     },
     "execution_count": 107,
     "metadata": {},
     "output_type": "execute_result"
    }
   ],
   "source": [
    "#US\n",
    "1/np.exp(-0.0123)\n",
    "\n",
    "#For a unit decrease in US,ab_page is 1.01 times likely holding all else is constant"
   ]
  },
  {
   "cell_type": "code",
   "execution_count": null,
   "metadata": {},
   "outputs": [],
   "source": []
  },
  {
   "cell_type": "markdown",
   "metadata": {},
   "source": [
    "h. Though we have now looked at the individual factors of country and page on conversion, we would now like to look at an interaction between page and country to see if there significant effects on conversion.  let\n",
    "s create the necessary additional columns, and fit the new model.  \n",
    "\n",
    "Provide the summary results, and our conclusions based on the results."
   ]
  },
  {
   "cell_type": "code",
   "execution_count": 108,
   "metadata": {},
   "outputs": [
    {
     "data": {
      "text/html": [
       "<div>\n",
       "<style>\n",
       "    .dataframe thead tr:only-child th {\n",
       "        text-align: right;\n",
       "    }\n",
       "\n",
       "    .dataframe thead th {\n",
       "        text-align: left;\n",
       "    }\n",
       "\n",
       "    .dataframe tbody tr th {\n",
       "        vertical-align: top;\n",
       "    }\n",
       "</style>\n",
       "<table border=\"1\" class=\"dataframe\">\n",
       "  <thead>\n",
       "    <tr style=\"text-align: right;\">\n",
       "      <th></th>\n",
       "      <th>timestamp</th>\n",
       "      <th>group</th>\n",
       "      <th>landing_page</th>\n",
       "      <th>converted</th>\n",
       "      <th>intercept</th>\n",
       "      <th>ab_page</th>\n",
       "      <th>country</th>\n",
       "      <th>CA</th>\n",
       "      <th>UK</th>\n",
       "      <th>US</th>\n",
       "    </tr>\n",
       "    <tr>\n",
       "      <th>user_id</th>\n",
       "      <th></th>\n",
       "      <th></th>\n",
       "      <th></th>\n",
       "      <th></th>\n",
       "      <th></th>\n",
       "      <th></th>\n",
       "      <th></th>\n",
       "      <th></th>\n",
       "      <th></th>\n",
       "      <th></th>\n",
       "    </tr>\n",
       "  </thead>\n",
       "  <tbody>\n",
       "    <tr>\n",
       "      <th>630000</th>\n",
       "      <td>2017-01-19 06:26:06.548941</td>\n",
       "      <td>treatment</td>\n",
       "      <td>new_page</td>\n",
       "      <td>0</td>\n",
       "      <td>1</td>\n",
       "      <td>1</td>\n",
       "      <td>US</td>\n",
       "      <td>0</td>\n",
       "      <td>0</td>\n",
       "      <td>1</td>\n",
       "    </tr>\n",
       "    <tr>\n",
       "      <th>630001</th>\n",
       "      <td>2017-01-16 03:16:42.560309</td>\n",
       "      <td>treatment</td>\n",
       "      <td>new_page</td>\n",
       "      <td>1</td>\n",
       "      <td>1</td>\n",
       "      <td>1</td>\n",
       "      <td>US</td>\n",
       "      <td>0</td>\n",
       "      <td>0</td>\n",
       "      <td>1</td>\n",
       "    </tr>\n",
       "    <tr>\n",
       "      <th>630002</th>\n",
       "      <td>2017-01-19 19:20:56.438330</td>\n",
       "      <td>control</td>\n",
       "      <td>old_page</td>\n",
       "      <td>0</td>\n",
       "      <td>1</td>\n",
       "      <td>0</td>\n",
       "      <td>US</td>\n",
       "      <td>0</td>\n",
       "      <td>0</td>\n",
       "      <td>1</td>\n",
       "    </tr>\n",
       "    <tr>\n",
       "      <th>630003</th>\n",
       "      <td>2017-01-12 10:09:31.510471</td>\n",
       "      <td>treatment</td>\n",
       "      <td>new_page</td>\n",
       "      <td>0</td>\n",
       "      <td>1</td>\n",
       "      <td>1</td>\n",
       "      <td>US</td>\n",
       "      <td>0</td>\n",
       "      <td>0</td>\n",
       "      <td>1</td>\n",
       "    </tr>\n",
       "    <tr>\n",
       "      <th>630004</th>\n",
       "      <td>2017-01-18 20:23:58.824994</td>\n",
       "      <td>treatment</td>\n",
       "      <td>new_page</td>\n",
       "      <td>0</td>\n",
       "      <td>1</td>\n",
       "      <td>1</td>\n",
       "      <td>US</td>\n",
       "      <td>0</td>\n",
       "      <td>0</td>\n",
       "      <td>1</td>\n",
       "    </tr>\n",
       "  </tbody>\n",
       "</table>\n",
       "</div>"
      ],
      "text/plain": [
       "                          timestamp      group landing_page  converted  \\\n",
       "user_id                                                                  \n",
       "630000   2017-01-19 06:26:06.548941  treatment     new_page          0   \n",
       "630001   2017-01-16 03:16:42.560309  treatment     new_page          1   \n",
       "630002   2017-01-19 19:20:56.438330    control     old_page          0   \n",
       "630003   2017-01-12 10:09:31.510471  treatment     new_page          0   \n",
       "630004   2017-01-18 20:23:58.824994  treatment     new_page          0   \n",
       "\n",
       "         intercept  ab_page country  CA  UK  US  \n",
       "user_id                                          \n",
       "630000           1        1      US   0   0   1  \n",
       "630001           1        1      US   0   0   1  \n",
       "630002           1        0      US   0   0   1  \n",
       "630003           1        1      US   0   0   1  \n",
       "630004           1        1      US   0   0   1  "
      ]
     },
     "execution_count": 108,
     "metadata": {},
     "output_type": "execute_result"
    }
   ],
   "source": [
    "df2.head()"
   ]
  },
  {
   "cell_type": "code",
   "execution_count": 109,
   "metadata": {},
   "outputs": [],
   "source": [
    "#joined_data['UK_ind_ab_page'] = joined_data['UK_ind']*joined_data['ab_page']\n",
    "\n",
    "df2['UK_abpage'] = df2['UK'] * df2['ab_page']"
   ]
  },
  {
   "cell_type": "code",
   "execution_count": 110,
   "metadata": {},
   "outputs": [],
   "source": [
    "df2['US_abpage'] = df2['US'] * df2['ab_page']"
   ]
  },
  {
   "cell_type": "code",
   "execution_count": 111,
   "metadata": {},
   "outputs": [],
   "source": [
    "df2['CA_abpage'] = df2['CA'] * df2['ab_page']"
   ]
  },
  {
   "cell_type": "code",
   "execution_count": 114,
   "metadata": {},
   "outputs": [
    {
     "data": {
      "text/html": [
       "<div>\n",
       "<style>\n",
       "    .dataframe thead tr:only-child th {\n",
       "        text-align: right;\n",
       "    }\n",
       "\n",
       "    .dataframe thead th {\n",
       "        text-align: left;\n",
       "    }\n",
       "\n",
       "    .dataframe tbody tr th {\n",
       "        vertical-align: top;\n",
       "    }\n",
       "</style>\n",
       "<table border=\"1\" class=\"dataframe\">\n",
       "  <thead>\n",
       "    <tr style=\"text-align: right;\">\n",
       "      <th></th>\n",
       "      <th>timestamp</th>\n",
       "      <th>group</th>\n",
       "      <th>landing_page</th>\n",
       "      <th>converted</th>\n",
       "      <th>intercept</th>\n",
       "      <th>ab_page</th>\n",
       "      <th>country</th>\n",
       "      <th>CA</th>\n",
       "      <th>UK</th>\n",
       "      <th>US</th>\n",
       "      <th>UK_abpage</th>\n",
       "      <th>US_abpage</th>\n",
       "      <th>CA_abpage</th>\n",
       "    </tr>\n",
       "    <tr>\n",
       "      <th>user_id</th>\n",
       "      <th></th>\n",
       "      <th></th>\n",
       "      <th></th>\n",
       "      <th></th>\n",
       "      <th></th>\n",
       "      <th></th>\n",
       "      <th></th>\n",
       "      <th></th>\n",
       "      <th></th>\n",
       "      <th></th>\n",
       "      <th></th>\n",
       "      <th></th>\n",
       "      <th></th>\n",
       "    </tr>\n",
       "  </thead>\n",
       "  <tbody>\n",
       "    <tr>\n",
       "      <th>630000</th>\n",
       "      <td>2017-01-19 06:26:06.548941</td>\n",
       "      <td>treatment</td>\n",
       "      <td>new_page</td>\n",
       "      <td>0</td>\n",
       "      <td>1</td>\n",
       "      <td>1</td>\n",
       "      <td>US</td>\n",
       "      <td>0</td>\n",
       "      <td>0</td>\n",
       "      <td>1</td>\n",
       "      <td>0</td>\n",
       "      <td>1</td>\n",
       "      <td>0</td>\n",
       "    </tr>\n",
       "    <tr>\n",
       "      <th>630001</th>\n",
       "      <td>2017-01-16 03:16:42.560309</td>\n",
       "      <td>treatment</td>\n",
       "      <td>new_page</td>\n",
       "      <td>1</td>\n",
       "      <td>1</td>\n",
       "      <td>1</td>\n",
       "      <td>US</td>\n",
       "      <td>0</td>\n",
       "      <td>0</td>\n",
       "      <td>1</td>\n",
       "      <td>0</td>\n",
       "      <td>1</td>\n",
       "      <td>0</td>\n",
       "    </tr>\n",
       "  </tbody>\n",
       "</table>\n",
       "</div>"
      ],
      "text/plain": [
       "                          timestamp      group landing_page  converted  \\\n",
       "user_id                                                                  \n",
       "630000   2017-01-19 06:26:06.548941  treatment     new_page          0   \n",
       "630001   2017-01-16 03:16:42.560309  treatment     new_page          1   \n",
       "\n",
       "         intercept  ab_page country  CA  UK  US  UK_abpage  US_abpage  \\\n",
       "user_id                                                                 \n",
       "630000           1        1      US   0   0   1          0          1   \n",
       "630001           1        1      US   0   0   1          0          1   \n",
       "\n",
       "         CA_abpage  \n",
       "user_id             \n",
       "630000           0  \n",
       "630001           0  "
      ]
     },
     "execution_count": 114,
     "metadata": {},
     "output_type": "execute_result"
    }
   ],
   "source": [
    "df2.head(2)"
   ]
  },
  {
   "cell_type": "code",
   "execution_count": 115,
   "metadata": {},
   "outputs": [
    {
     "name": "stdout",
     "output_type": "stream",
     "text": [
      "Optimization terminated successfully.\n",
      "         Current function value: 0.366117\n",
      "         Iterations 6\n"
     ]
    },
    {
     "data": {
      "text/html": [
       "<table class=\"simpletable\">\n",
       "<caption>Logit Regression Results</caption>\n",
       "<tr>\n",
       "  <th>Dep. Variable:</th>     <td>converted</td>    <th>  No. Observations:  </th>   <td>290584</td>   \n",
       "</tr>\n",
       "<tr>\n",
       "  <th>Model:</th>               <td>Logit</td>      <th>  Df Residuals:      </th>   <td>290581</td>   \n",
       "</tr>\n",
       "<tr>\n",
       "  <th>Method:</th>               <td>MLE</td>       <th>  Df Model:          </th>   <td>     2</td>   \n",
       "</tr>\n",
       "<tr>\n",
       "  <th>Date:</th>          <td>Fri, 13 Apr 2018</td> <th>  Pseudo R-squ.:     </th>  <td>1.082e-05</td> \n",
       "</tr>\n",
       "<tr>\n",
       "  <th>Time:</th>              <td>05:33:53</td>     <th>  Log-Likelihood:    </th> <td>-1.0639e+05</td>\n",
       "</tr>\n",
       "<tr>\n",
       "  <th>converged:</th>           <td>True</td>       <th>  LL-Null:           </th> <td>-1.0639e+05</td>\n",
       "</tr>\n",
       "<tr>\n",
       "  <th> </th>                      <td> </td>        <th>  LLR p-value:       </th>   <td>0.3164</td>   \n",
       "</tr>\n",
       "</table>\n",
       "<table class=\"simpletable\">\n",
       "<tr>\n",
       "      <td></td>         <th>coef</th>     <th>std err</th>      <th>z</th>      <th>P>|z|</th>  <th>[0.025</th>    <th>0.975]</th>  \n",
       "</tr>\n",
       "<tr>\n",
       "  <th>intercept</th> <td>   -1.9926</td> <td>    0.008</td> <td> -252.910</td> <td> 0.000</td> <td>   -2.008</td> <td>   -1.977</td>\n",
       "</tr>\n",
       "<tr>\n",
       "  <th>UK_abpage</th> <td>    0.0112</td> <td>    0.018</td> <td>    0.626</td> <td> 0.532</td> <td>   -0.024</td> <td>    0.046</td>\n",
       "</tr>\n",
       "<tr>\n",
       "  <th>US_abpage</th> <td>   -0.0144</td> <td>    0.012</td> <td>   -1.155</td> <td> 0.248</td> <td>   -0.039</td> <td>    0.010</td>\n",
       "</tr>\n",
       "</table>"
      ],
      "text/plain": [
       "<class 'statsmodels.iolib.summary.Summary'>\n",
       "\"\"\"\n",
       "                           Logit Regression Results                           \n",
       "==============================================================================\n",
       "Dep. Variable:              converted   No. Observations:               290584\n",
       "Model:                          Logit   Df Residuals:                   290581\n",
       "Method:                           MLE   Df Model:                            2\n",
       "Date:                Fri, 13 Apr 2018   Pseudo R-squ.:               1.082e-05\n",
       "Time:                        05:33:53   Log-Likelihood:            -1.0639e+05\n",
       "converged:                       True   LL-Null:                   -1.0639e+05\n",
       "                                        LLR p-value:                    0.3164\n",
       "==============================================================================\n",
       "                 coef    std err          z      P>|z|      [0.025      0.975]\n",
       "------------------------------------------------------------------------------\n",
       "intercept     -1.9926      0.008   -252.910      0.000      -2.008      -1.977\n",
       "UK_abpage      0.0112      0.018      0.626      0.532      -0.024       0.046\n",
       "US_abpage     -0.0144      0.012     -1.155      0.248      -0.039       0.010\n",
       "==============================================================================\n",
       "\"\"\""
      ]
     },
     "execution_count": 115,
     "metadata": {},
     "output_type": "execute_result"
    }
   ],
   "source": [
    "page_logit = sm.Logit(df2['converted'],df2[['intercept','UK_abpage','US_abpage']])\n",
    "\n",
    "result = page_logit.fit()\n",
    "result.summary()"
   ]
  },
  {
   "cell_type": "code",
   "execution_count": null,
   "metadata": {},
   "outputs": [],
   "source": [
    "#yes, there are small differences in the conversion with respect to countries.\n",
    "#Since we took CA as base.\n",
    "#   1. UK page conversion is 0.011 times more likely keeping US conversion as constant\n",
    "#   2. Also, US page conversion is 0.01 times less likely keeping UK conversion as constant"
   ]
  },
  {
   "cell_type": "code",
   "execution_count": null,
   "metadata": {},
   "outputs": [],
   "source": [
    "Looking at the p-values, UK and US countries are stastically insignificant"
   ]
  },
  {
   "cell_type": "markdown",
   "metadata": {},
   "source": [
    "<a id='conclusions'></a>\n",
    "## Conclusions\n",
    " \n",
    "\n",
    "### Gather Submission Materials\n",
    "\n",
    "Once we are satisfied with the status of our Notebook, we should save it in a format that will make it easy for others to read. we can use the __File -> Download as -> HTML (.html)__ menu to save our notebook as an .html file. If we are working locally and get an error about \"No module name\", then open a terminal and try installing the missing module using `pip install <module_name>` (don't include the \"<\" or \">\" or any words following a period in the module name).\n"
   ]
  },
  {
   "cell_type": "code",
   "execution_count": null,
   "metadata": {},
   "outputs": [],
   "source": []
  }
 ],
 "metadata": {
  "kernelspec": {
   "display_name": "Python 3",
   "language": "python",
   "name": "python3"
  },
  "language_info": {
   "codemirror_mode": {
    "name": "ipython",
    "version": 3
   },
   "file_extension": ".py",
   "mimetype": "text/x-python",
   "name": "python",
   "nbconvert_exporter": "python",
   "pygments_lexer": "ipython3",
   "version": "3.6.3"
  }
 },
 "nbformat": 4,
 "nbformat_minor": 2
}
